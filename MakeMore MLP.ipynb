{
 "cells": [
  {
   "cell_type": "markdown",
   "id": "d0c1ad85-76ad-4a54-b255-06e7b0b12658",
   "metadata": {},
   "source": [
    "# MLP\n",
    "Based on [A Neural Probabilistic Language Model](https://www.jmlr.org/papers/volume3/bengio03a/bengio03a.pdf)."
   ]
  },
  {
   "cell_type": "code",
   "execution_count": 1,
   "id": "3730a59d-1c55-46dd-aa94-7d35c6d7705d",
   "metadata": {},
   "outputs": [],
   "source": [
    "import torch\n",
    "import torch.nn.functional as F\n",
    "import matplotlib.pyplot as plt\n",
    "%matplotlib inline"
   ]
  },
  {
   "cell_type": "code",
   "execution_count": 4,
   "id": "abec0e0c-6759-4f5d-a1b1-bac059bc05ca",
   "metadata": {},
   "outputs": [],
   "source": [
    "# Read in the names\n",
    "names = open('names.txt', 'r').read().splitlines()"
   ]
  },
  {
   "cell_type": "code",
   "execution_count": 169,
   "id": "23364c7a-1742-4b14-b7e6-99b91c0a0a83",
   "metadata": {},
   "outputs": [],
   "source": [
    "# BUild the vocabulary and mappings\n",
    "characters = sorted(list(set(\"\".join(names))))\n",
    "str_to_int = {string:integer+1 for integer, string in enumerate(characters)}\n",
    "str_to_int['.'] = 0\n",
    "int_to_str = {integer:string for string, integer in str_to_int.items()}"
   ]
  },
  {
   "cell_type": "code",
   "execution_count": 170,
   "id": "e991d34a-2b73-48cd-a290-bd5fde396e01",
   "metadata": {},
   "outputs": [],
   "source": [
    "block_size = 3  # Context size - number of characters used to predict the next one"
   ]
  },
  {
   "cell_type": "code",
   "execution_count": 171,
   "id": "5418703a-4041-46ee-9ca2-2d9257baf680",
   "metadata": {},
   "outputs": [],
   "source": [
    "X = []  # inputs/context\n",
    "Y = []  # targets\n",
    "\n",
    "for name in names:\n",
    "    context = [0] * block_size      \n",
    "    for character in name + \".\":\n",
    "        ix = str_to_int[character]  # Grab index of that character\n",
    "        X.append(context)           \n",
    "        Y.append(ix)\n",
    "        context = context[1:] + [ix]  # crop and append\n",
    "\n",
    "X = torch.tensor(X)\n",
    "Y = torch.tensor(Y)"
   ]
  },
  {
   "cell_type": "markdown",
   "id": "95bd1d97-ddd6-4ba4-b279-46f919a1abaa",
   "metadata": {},
   "source": [
    "# Simple forward pass\n",
    "[This blogpost](http://blog.ezyang.com/2019/05/pytorch-internals/) about Pytorch internals is very helpful in understanding what happens under the hood in pytorch when we use, for instance, something like `.view()`."
   ]
  },
  {
   "cell_type": "code",
   "execution_count": 172,
   "id": "1159e115-d4e7-444c-aa19-acea8844f427",
   "metadata": {},
   "outputs": [
    {
     "name": "stdout",
     "output_type": "stream",
     "text": [
      "Total parameters:  3481\n"
     ]
    }
   ],
   "source": [
    "g = torch.Generator().manual_seed(2147483647)\n",
    "\n",
    "C = torch.randn((27, 2), generator=g)  # embedding\n",
    "\n",
    "W1 = torch.randn((6, 100), generator=g)\n",
    "b1 = torch.randn(100, generator=g)\n",
    "\n",
    "W2 = torch.randn((100, 27), generator=g)\n",
    "b2 = torch.randn(27, generator=g)\n",
    "\n",
    "parameters = [C, W1, b1, W2, b2]  # All parameters of our network\n",
    "print(\"Total parameters: \", sum(p.nelement() for p in parameters))"
   ]
  },
  {
   "cell_type": "code",
   "execution_count": 173,
   "id": "6ffac04a-5179-43a0-aea2-97610e8550e5",
   "metadata": {},
   "outputs": [],
   "source": [
    "# Allow gradients\n",
    "for p in parameters:\n",
    "    p.requires_grad = True"
   ]
  },
  {
   "cell_type": "code",
   "execution_count": 174,
   "id": "452e09c9-da94-4456-b782-f202d3140cdd",
   "metadata": {},
   "outputs": [],
   "source": [
    "# Increasing learning rate\n",
    "n_steps = 10000\n",
    "# lr_exp = torch.linspace(-3.0, 0.0, n_steps)\n",
    "# lrs = 10**lr_exp"
   ]
  },
  {
   "cell_type": "code",
   "execution_count": 175,
   "id": "b9094d37-be17-4fd5-86c4-abeef53b6a68",
   "metadata": {},
   "outputs": [
    {
     "name": "stdout",
     "output_type": "stream",
     "text": [
      "Loss:  2.889554262161255\n"
     ]
    }
   ],
   "source": [
    "lri = []\n",
    "lossi = []\n",
    "\n",
    "# Forward pass\n",
    "for i in range(n_steps):\n",
    "    # Minibatch\n",
    "    ix = torch.randint(0, X.shape[0], (32,))\n",
    "\n",
    "    # Embedding\n",
    "    emb = C[X[ix]]\n",
    "\n",
    "    # First layer\n",
    "    h = torch.tanh(emb.view(-1, 6) @ W1 + b1)\n",
    "\n",
    "    # Second layer\n",
    "    logits = h @ W2 + b2\n",
    "\n",
    "    # Cross entropy (softmax + avg negative log likelihood)\n",
    "    loss = F.cross_entropy(logits, Y[ix])\n",
    "    \n",
    "    # Zero gradients\n",
    "    for p in parameters:\n",
    "        p.grad = None\n",
    "    loss.backward()\n",
    "    \n",
    "    # Gradient desceint\n",
    "    lr = 0.01 #lrs[i]\n",
    "    for p in parameters:\n",
    "        p.data += -lr * p.grad\n",
    "\n",
    "    # Storage\n",
    "    # lri.append(lr_exp[i])\n",
    "    # lossi.append(loss.item())\n",
    "\n",
    "print(\"Loss: \", loss.item())"
   ]
  },
  {
   "cell_type": "code",
   "execution_count": 176,
   "id": "ca613fd6-2e4f-42a8-80a3-703891a853db",
   "metadata": {},
   "outputs": [
    {
     "name": "stdout",
     "output_type": "stream",
     "text": [
      "Loss:  2.5704538822174072\n"
     ]
    }
   ],
   "source": [
    "# Embedding\n",
    "emb = C[X]\n",
    "\n",
    "# First layer\n",
    "h = torch.tanh(emb.view(-1, 6) @ W1 + b1)\n",
    "\n",
    "# Second layer\n",
    "logits = h @ W2 + b2\n",
    "\n",
    "# Cross entropy (softmax + avg negative log likelihood)\n",
    "loss = F.cross_entropy(logits, Y)\n",
    "\n",
    "print(\"Loss: \", loss.item())"
   ]
  },
  {
   "cell_type": "markdown",
   "id": "702d630f-5785-4d48-a316-b0630ed53db7",
   "metadata": {},
   "source": [
    "# Train, Test, Split"
   ]
  },
  {
   "cell_type": "code",
   "execution_count": 177,
   "id": "93d45bc3-7703-404f-854f-4a75e69397bb",
   "metadata": {},
   "outputs": [],
   "source": [
    "def build_dataset(names):\n",
    "    block_size = 3\n",
    "    X, Y = [], []\n",
    "    for name in names:\n",
    "        context = [0] * block_size\n",
    "        for character in name + \".\":\n",
    "            ix = str_to_int[character]\n",
    "            X.append(context)\n",
    "            Y.append(ix)\n",
    "            context = context[1:] + [ix]\n",
    "    X = torch.tensor(X)\n",
    "    Y = torch.tensor(Y)\n",
    "    print(X.shape, Y.shape)\n",
    "    return X, Y"
   ]
  },
  {
   "cell_type": "code",
   "execution_count": 178,
   "id": "b8252f0e-638e-4df9-9531-cecc5b01846d",
   "metadata": {},
   "outputs": [
    {
     "name": "stdout",
     "output_type": "stream",
     "text": [
      "torch.Size([182437, 3]) torch.Size([182437])\n",
      "torch.Size([22781, 3]) torch.Size([22781])\n",
      "torch.Size([22928, 3]) torch.Size([22928])\n"
     ]
    }
   ],
   "source": [
    "import random\n",
    "\n",
    "random.seed(42)\n",
    "random.shuffle(names)\n",
    "\n",
    "n1 = int(0.8*len(names))\n",
    "n2 = int(0.9*len(names))\n",
    "\n",
    "Xtr, Ytr = build_dataset(names[:n1])\n",
    "Xdev, Ydev = build_dataset(names[n1:n2])\n",
    "Xte, Yte = build_dataset(names[n2:])"
   ]
  },
  {
   "cell_type": "code",
   "execution_count": 179,
   "id": "2fd2496d-c73f-48c3-b24f-597d3ce8dd15",
   "metadata": {},
   "outputs": [
    {
     "name": "stdout",
     "output_type": "stream",
     "text": [
      "Total parameters:  3481\n"
     ]
    }
   ],
   "source": [
    "g = torch.Generator().manual_seed(2147483647)\n",
    "\n",
    "C = torch.randn((27, 2), generator=g)  # embedding\n",
    "\n",
    "W1 = torch.randn((6, 100), generator=g)\n",
    "b1 = torch.randn(100, generator=g)\n",
    "\n",
    "W2 = torch.randn((100, 27), generator=g)\n",
    "b2 = torch.randn(27, generator=g)\n",
    "\n",
    "parameters = [C, W1, b1, W2, b2]  # All parameters of our network\n",
    "print(\"Total parameters: \", sum(p.nelement() for p in parameters))"
   ]
  },
  {
   "cell_type": "markdown",
   "id": "17df27a9-9648-4b87-8709-93e54efa2f5c",
   "metadata": {},
   "source": [
    "Train using `Xtr` and `Ytr`"
   ]
  },
  {
   "cell_type": "code",
   "execution_count": 180,
   "id": "9987c6e7-79c4-446e-ad06-ebf348352331",
   "metadata": {},
   "outputs": [],
   "source": [
    "# Allow gradients\n",
    "for p in parameters:\n",
    "    p.requires_grad = True"
   ]
  },
  {
   "cell_type": "code",
   "execution_count": 181,
   "id": "b9c31314-dd41-4f53-b281-54e0b4f9de51",
   "metadata": {},
   "outputs": [],
   "source": [
    "n_steps = 30000"
   ]
  },
  {
   "cell_type": "code",
   "execution_count": 182,
   "id": "75986e08-1c5f-4025-bb54-0dbc25078822",
   "metadata": {},
   "outputs": [
    {
     "name": "stdout",
     "output_type": "stream",
     "text": [
      "Loss:  2.583037853240967\n"
     ]
    }
   ],
   "source": [
    "lri = []\n",
    "lossi = []\n",
    "\n",
    "# Forward pass\n",
    "for i in range(n_steps):\n",
    "    # Minibatch\n",
    "    ix = torch.randint(0, Xtr.shape[0], (32,))\n",
    "\n",
    "    # Embedding\n",
    "    emb = C[Xtr[ix]]\n",
    "\n",
    "    # First layer\n",
    "    h = torch.tanh(emb.view(-1, 6) @ W1 + b1)\n",
    "\n",
    "    # Second layer\n",
    "    logits = h @ W2 + b2\n",
    "\n",
    "    # Cross entropy (softmax + avg negative log likelihood)\n",
    "    loss = F.cross_entropy(logits, Ytr[ix])\n",
    "    \n",
    "    # Zero gradients\n",
    "    for p in parameters:\n",
    "        p.grad = None\n",
    "    loss.backward()\n",
    "    \n",
    "    # Gradient desceint\n",
    "    lr = 0.01 #lrs[i]\n",
    "    for p in parameters:\n",
    "        p.data += -lr * p.grad\n",
    "\n",
    "print(\"Loss: \", loss.item())"
   ]
  },
  {
   "cell_type": "markdown",
   "id": "120e3117-b45a-4e96-a481-47782ac17202",
   "metadata": {},
   "source": [
    "Evaluate loss on `Xdev` and `Ydev`"
   ]
  },
  {
   "cell_type": "code",
   "execution_count": 183,
   "id": "2348c0c8-b172-4b74-8d30-70b41ab9df0d",
   "metadata": {},
   "outputs": [
    {
     "name": "stdout",
     "output_type": "stream",
     "text": [
      "Loss:  2.4926576614379883\n"
     ]
    }
   ],
   "source": [
    "# Embedding\n",
    "emb = C[Xdev]\n",
    "\n",
    "# First layer\n",
    "h = torch.tanh(emb.view(-1, 6) @ W1 + b1)\n",
    "\n",
    "# Second layer\n",
    "logits = h @ W2 + b2\n",
    "\n",
    "# Cross entropy (softmax + avg negative log likelihood)\n",
    "loss = F.cross_entropy(logits, Ydev)\n",
    "\n",
    "print(\"Loss: \", loss.item())"
   ]
  },
  {
   "cell_type": "markdown",
   "id": "9c21767c-b3bb-4f7f-ae1e-abcfd6b1cb7d",
   "metadata": {},
   "source": [
    "Currently it is underfitting because training and test loss are about the same."
   ]
  },
  {
   "cell_type": "markdown",
   "id": "0be3194c-a06c-40de-932a-6bb5e90566f5",
   "metadata": {},
   "source": [
    "# Increase size of network"
   ]
  },
  {
   "cell_type": "code",
   "execution_count": 188,
   "id": "72a30aa4-dfcc-4cfa-a4c6-351b482044c1",
   "metadata": {},
   "outputs": [
    {
     "name": "stdout",
     "output_type": "stream",
     "text": [
      "Total parameters:  10281\n"
     ]
    }
   ],
   "source": [
    "g = torch.Generator().manual_seed(2147483647)\n",
    "\n",
    "C = torch.randn((27, 2), generator=g)  # embedding\n",
    "\n",
    "W1 = torch.randn((6, 300), generator=g)\n",
    "b1 = torch.randn(300, generator=g)\n",
    "\n",
    "W2 = torch.randn((300, 27), generator=g)\n",
    "b2 = torch.randn(27, generator=g)\n",
    "\n",
    "parameters = [C, W1, b1, W2, b2]  # All parameters of our network\n",
    "print(\"Total parameters: \", sum(p.nelement() for p in parameters))"
   ]
  },
  {
   "cell_type": "code",
   "execution_count": 189,
   "id": "8fbbba0c-e9df-4633-94d6-8bb9a0482b87",
   "metadata": {},
   "outputs": [],
   "source": [
    "# Allow gradients\n",
    "for p in parameters:\n",
    "    p.requires_grad = True"
   ]
  },
  {
   "cell_type": "code",
   "execution_count": 194,
   "id": "23749514-d9ef-41ac-bec9-f936379dbc15",
   "metadata": {},
   "outputs": [],
   "source": [
    "n_steps = 30000"
   ]
  },
  {
   "cell_type": "code",
   "execution_count": 197,
   "id": "a7544e9c-4390-45bb-9007-f7d6bb569377",
   "metadata": {},
   "outputs": [
    {
     "name": "stdout",
     "output_type": "stream",
     "text": [
      "Loss:  2.2292640209198\n"
     ]
    }
   ],
   "source": [
    "lri = []\n",
    "lossi = []\n",
    "stepi = []\n",
    "\n",
    "# Forward pass\n",
    "for i in range(n_steps):\n",
    "    # Minibatch\n",
    "    ix = torch.randint(0, Xtr.shape[0], (32,))\n",
    "\n",
    "    # Embedding\n",
    "    emb = C[Xtr[ix]]\n",
    "\n",
    "    # First layer\n",
    "    h = torch.tanh(emb.view(-1, 6) @ W1 + b1)\n",
    "\n",
    "    # Second layer\n",
    "    logits = h @ W2 + b2\n",
    "\n",
    "    # Cross entropy (softmax + avg negative log likelihood)\n",
    "    loss = F.cross_entropy(logits, Ytr[ix])\n",
    "    \n",
    "    # Zero gradients\n",
    "    for p in parameters:\n",
    "        p.grad = None\n",
    "    loss.backward()\n",
    "    \n",
    "    # Gradient desceint\n",
    "    lr = 0.01\n",
    "    for p in parameters:\n",
    "        p.data += -lr * p.grad\n",
    "\n",
    "    stepi.append(i)\n",
    "    lossi.append(loss.item())\n",
    "\n",
    "print(\"Loss: \", loss.item())"
   ]
  },
  {
   "cell_type": "code",
   "execution_count": 192,
   "id": "0004c041-109c-4005-bbef-10d298b9e393",
   "metadata": {},
   "outputs": [
    {
     "data": {
      "image/png": "[encoded data removed]",
      "text/plain": [
       "<Figure size 640x480 with 1 Axes>"
      ]
     },
     "metadata": {},
     "output_type": "display_data"
    }
   ],
   "source": [
    "plt.plot(stepi, lossi)\n",
    "plt.yscale('log')"
   ]
  },
  {
   "cell_type": "markdown",
   "id": "50da9eb5-f88f-428b-bd0e-a6de5b3e6f24",
   "metadata": {},
   "source": [
    "# Visualize the 2D embeddings learned by the neural net"
   ]
  },
  {
   "cell_type": "code",
   "execution_count": 198,
   "id": "333e920f-781f-4c46-a328-8285c7113477",
   "metadata": {},
   "outputs": [
    {
     "data": {
      "image/png": "[encoded data removed]",
      "text/plain": [
       "<Figure size 800x800 with 1 Axes>"
      ]
     },
     "metadata": {},
     "output_type": "display_data"
    }
   ],
   "source": [
    "plt.figure(figsize=(8,8))\n",
    "plt.scatter(C[:,0].data, C[:, 1].data, s=200)\n",
    "for i in range(C.shape[0]):\n",
    "    plt.text(C[i, 0].item(), C[i, 1].item(), int_to_str[i], ha='center', va='center', color='white')\n",
    "plt.grid('minor')"
   ]
  },
  {
   "cell_type": "markdown",
   "id": "6be0198c-c9ab-4182-9135-2639fa2fda57",
   "metadata": {},
   "source": [
    "# Larger Embedding Dimension"
   ]
  },
  {
   "cell_type": "code",
   "execution_count": 208,
   "id": "c311ba62-fdd5-4c78-8a08-75b3236eea35",
   "metadata": {},
   "outputs": [
    {
     "name": "stdout",
     "output_type": "stream",
     "text": [
      "Total parameters:  11897\n"
     ]
    }
   ],
   "source": [
    "g = torch.Generator().manual_seed(2147483647)\n",
    "\n",
    "emb_dim = 10\n",
    "\n",
    "C = torch.randn((27, emb_dim), generator=g)  # embedding\n",
    "\n",
    "W1 = torch.randn((3*emb_dim, 200), generator=g)\n",
    "b1 = torch.randn(200, generator=g)\n",
    "\n",
    "W2 = torch.randn((200, 27), generator=g)\n",
    "b2 = torch.randn(27, generator=g)\n",
    "\n",
    "parameters = [C, W1, b1, W2, b2]  # All parameters of our network\n",
    "print(\"Total parameters: \", sum(p.nelement() for p in parameters))"
   ]
  },
  {
   "cell_type": "code",
   "execution_count": 209,
   "id": "3856ab94-3b8d-43e3-9029-eea90904f8c0",
   "metadata": {},
   "outputs": [],
   "source": [
    "# Allow gradients\n",
    "for p in parameters:\n",
    "    p.requires_grad = True\n",
    "\n",
    "n_steps = 50000"
   ]
  },
  {
   "cell_type": "code",
   "execution_count": 210,
   "id": "a32b8c62-6bf2-4078-9685-438b81dba644",
   "metadata": {},
   "outputs": [],
   "source": [
    "lri = []\n",
    "lossi = []\n",
    "stepi = []"
   ]
  },
  {
   "cell_type": "code",
   "execution_count": 213,
   "id": "51977536-76cb-4e7c-ac58-1c97ed1228f4",
   "metadata": {},
   "outputs": [
    {
     "name": "stdout",
     "output_type": "stream",
     "text": [
      "Loss:  1.701916217803955\n"
     ]
    }
   ],
   "source": [
    "# Forward pass\n",
    "for i in range(n_steps):\n",
    "    # Minibatch\n",
    "    ix = torch.randint(0, Xtr.shape[0], (32,))\n",
    "\n",
    "    # Embedding\n",
    "    emb = C[Xtr[ix]]\n",
    "\n",
    "    # First layer\n",
    "    h = torch.tanh(emb.view(-1, emb_dim*3) @ W1 + b1)\n",
    "\n",
    "    # Second layer\n",
    "    logits = h @ W2 + b2\n",
    "\n",
    "    # Cross entropy (softmax + avg negative log likelihood)\n",
    "    loss = F.cross_entropy(logits, Ytr[ix])\n",
    "    \n",
    "    # Zero gradients\n",
    "    for p in parameters:\n",
    "        p.grad = None\n",
    "    loss.backward()\n",
    "    \n",
    "    # Gradient desceint\n",
    "    lr = 0.01\n",
    "    for p in parameters:\n",
    "        p.data += -lr * p.grad\n",
    "\n",
    "    stepi.append(i)\n",
    "    lossi.append(loss.log10().item())\n",
    "\n",
    "print(\"Loss: \", loss.item())"
   ]
  },
  {
   "cell_type": "code",
   "execution_count": 214,
   "id": "ef15f579-4c15-4d71-a932-7eac221954b0",
   "metadata": {},
   "outputs": [
    {
     "data": {
      "text/plain": [
       "[<matplotlib.lines.Line2D at 0x30f187c80>]"
      ]
     },
     "execution_count": 214,
     "metadata": {},
     "output_type": "execute_result"
    },
    {
     "data": {
      "image/png": "[encoded data removed]",
      "text/plain": [
       "<Figure size 640x480 with 1 Axes>"
      ]
     },
     "metadata": {},
     "output_type": "display_data"
    }
   ],
   "source": [
    "plt.plot(stepi, lossi)"
   ]
  },
  {
   "cell_type": "markdown",
   "id": "f208d332-b835-47ac-97c3-170b3b3da4bb",
   "metadata": {},
   "source": [
    "# Sampling from the model"
   ]
  },
  {
   "cell_type": "code",
   "execution_count": 222,
   "id": "7dbcfcdf-dd1b-491b-9bdb-29d4747e92e4",
   "metadata": {},
   "outputs": [
    {
     "name": "stdout",
     "output_type": "stream",
     "text": [
      "carmah.\n",
      "amille.\n",
      "khirmani.\n",
      "thol.\n",
      "skandan.\n",
      "jazonel.\n",
      "delyah.\n",
      "jareei.\n",
      "nermara.\n",
      "chaiir.\n",
      "kaleig.\n",
      "dham.\n",
      "jore.\n",
      "quinn.\n",
      "shoilea.\n",
      "jambi.\n",
      "wajero.\n",
      "dearyni.\n",
      "jaxeelinsley.\n",
      "dae.\n"
     ]
    }
   ],
   "source": [
    "g = torch.Generator().manual_seed(2147483647 + 10)\n",
    "\n",
    "for _ in range(20):\n",
    "\n",
    "    out = []\n",
    "    context = [0] * block_size   # initialize with all dots\n",
    "    while True:\n",
    "        emb = C[torch.tensor([context])]  # (1, block_size, d)\n",
    "        h = torch.tanh(emb.view(1, -1) @ W1 + b1)\n",
    "        logits = h @ W2 + b2\n",
    "        probs = F.softmax(logits, dim=1)\n",
    "        ix = torch.multinomial(probs, num_samples=1, replacement=True, generator=g).item()\n",
    "        context = context[1:] + [ix]\n",
    "        out.append(ix)\n",
    "        if ix == 0:\n",
    "            break\n",
    "\n",
    "    print(''.join(int_to_str[i] for i in out))"
   ]
  },
  {
   "cell_type": "code",
   "execution_count": null,
   "id": "654cbef5-a3ee-468d-8dfa-1ba32b09f415",
   "metadata": {},
   "outputs": [],
   "source": []
  }
 ],
 "metadata": {
  "kernelspec": {
   "display_name": "Python 3 (ipykernel)",
   "language": "python",
   "name": "python3"
  },
  "language_info": {
   "codemirror_mode": {
    "name": "ipython",
    "version": 3
   },
   "file_extension": ".py",
   "mimetype": "text/x-python",
   "name": "python",
   "nbconvert_exporter": "python",
   "pygments_lexer": "ipython3",
   "version": "3.12.3"
  }
 },
 "nbformat": 4,
 "nbformat_minor": 5
}
