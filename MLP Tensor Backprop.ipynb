{
 "cells": [
  {
   "cell_type": "markdown",
   "id": "8547bdbd-88c1-4d31-9514-547cd4694521",
   "metadata": {},
   "source": [
    "The aim is to understand Backprop for tensors pretty well. Andrej argues that it's very important to avoiding shooting yourself in the foot. He wrote a [blogpost](https://karpathy.medium.com/yes-you-should-understand-backprop-e2f06eab496b)."
   ]
  },
  {
   "cell_type": "code",
   "execution_count": 18,
   "id": "cc4b277d-3d25-4530-83f9-4581475425f7",
   "metadata": {},
   "outputs": [
    {
     "name": "stdout",
     "output_type": "stream",
     "text": [
      "torch.Size([182625, 3]) torch.Size([182625])\n",
      "torch.Size([22655, 3]) torch.Size([22655])\n",
      "torch.Size([22866, 3]) torch.Size([22866])\n"
     ]
    }
   ],
   "source": [
    "### content in this cell is the same as previous notebook Makemore MLP Better than ever\n",
    "import torch\n",
    "import torch.nn.functional as F\n",
    "import matplotlib.pyplot as plt\n",
    "%matplotlib inline \n",
    "\n",
    "# Read data\n",
    "names = open(\"names.txt\", \"r\").read().splitlines()\n",
    "\n",
    "# Build vocabulary\n",
    "characters = sorted(list(set(''.join(names))))\n",
    "str_to_int = {s:i+1 for i, s in enumerate(characters)}\n",
    "str_to_int['.'] = 0.0\n",
    "int_to_str = {i:s for s, i in str_to_int.items()}\n",
    "vocab_size = len(int_to_str)\n",
    "\n",
    "block_size = 3  # context size\n",
    "\n",
    "def build_dataset(names):\n",
    "    X, Y = [], []\n",
    "    for name in names:\n",
    "        context = [0] * block_size\n",
    "        for character in name + \".\":\n",
    "            ix = str_to_int[character]\n",
    "            X.append(context)\n",
    "            Y.append(ix)\n",
    "            context = context[1:] + [ix]\n",
    "    X = torch.tensor(X)\n",
    "    Y = torch.tensor(Y, dtype=torch.long)\n",
    "    print(X.shape, Y.shape)\n",
    "    return X, Y\n",
    "\n",
    "import random \n",
    "random.seed(42)\n",
    "random.shuffle(names)\n",
    "n1 = int(0.8*len(names))\n",
    "n2 = int(0.9*len(names))\n",
    "\n",
    "Xtr, Ytr = build_dataset(names[:n1])\n",
    "Xdev, Ydev = build_dataset(names[n1:n2])\n",
    "Xte, Yte = build_dataset(names[n2:])"
   ]
  },
  {
   "cell_type": "markdown",
   "id": "8e90d365-bc3f-4eec-a68b-246945d362c9",
   "metadata": {},
   "source": [
    "# Function to Compare Gradients"
   ]
  },
  {
   "cell_type": "code",
   "execution_count": 19,
   "id": "7ba4e5ca-b44c-44bf-a8d3-5a13e6fb4d7f",
   "metadata": {},
   "outputs": [],
   "source": [
    "def cmp(s, dt, t):\n",
    "    \"\"\"Compares manual gradients to Pytorch gradients.\"\"\"\n",
    "    ex = torch.all(dt == t.grad).item()            # Exact gradient\n",
    "    app = torch.allclose(dt, t.grad)               # Approximate gradient\n",
    "    maxdiff = (dt - t.grad).abs().max().item()     # Maximum difference\n",
    "    print(f\"{s:15s} | exact: {str(ex):5s} | approximate: {str(app):5s} | maxdiff: {maxdiff}\")"
   ]
  },
  {
   "cell_type": "markdown",
   "id": "5ad552f1-7072-4dc5-bab6-9bc2ba350451",
   "metadata": {},
   "source": [
    "# Neural Network Initialization"
   ]
  },
  {
   "cell_type": "code",
   "execution_count": 20,
   "id": "366d4edc-a797-4a5f-9faf-60e209d8343f",
   "metadata": {},
   "outputs": [
    {
     "name": "stdout",
     "output_type": "stream",
     "text": [
      "4137\n"
     ]
    }
   ],
   "source": [
    "n_emb = 10\n",
    "n_hidden = 64\n",
    "\n",
    "g = torch.Generator().manual_seed(2147483647)\n",
    "C = torch.randn((vocab_size, n_emb), generator=g)\n",
    "# Layer 1\n",
    "W1 = torch.randn((n_emb*block_size, n_hidden), generator=g) * (5/3) / ((n_emb*block_size)**0.5)\n",
    "b1 = torch.randn(n_hidden, generator=g)  # Just for fun, it is useless due to BatchNorm\n",
    "# Layer 2\n",
    "W2 = torch.randn((n_hidden, vocab_size), generator=g) * 0.1\n",
    "b2 = torch.randn(vocab_size, generator=g) * 0.1\n",
    "# Batch norm\n",
    "bngain = torch.randn((1, n_hidden), generator=g)*0.1 + 1.0\n",
    "bnbias = torch.randn((1, n_hidden), generator=g)*0.1 \n",
    "\n",
    "# Some of these parameters are initialized in non-standard ways because sometimes initializing them \n",
    "# with all zeros can mask an incorrect implementation of the backward pass\n",
    "\n",
    "parameters = [C, W1, b1, W2, b2, bngain, bnbias]\n",
    "print(sum(p.nelement() for p in parameters))\n",
    "for p in parameters:\n",
    "    p.requires_grad = True"
   ]
  },
  {
   "cell_type": "markdown",
   "id": "2439a7d7-6131-4974-9894-44b866a9d975",
   "metadata": {},
   "source": [
    "# Batching"
   ]
  },
  {
   "cell_type": "code",
   "execution_count": 21,
   "id": "0723902c-7477-44e5-802d-31c244c8400e",
   "metadata": {},
   "outputs": [],
   "source": [
    "batch_size = 32\n",
    "n = batch_size\n",
    "ix = torch.randint(0, Xtr.shape[0], (batch_size, ), generator=g)\n",
    "Xb, Yb = Xtr[ix], Ytr[ix]"
   ]
  },
  {
   "cell_type": "markdown",
   "id": "fb5bef68-8c13-4dfb-b541-1f55209f5023",
   "metadata": {},
   "source": [
    "# Forward Pass"
   ]
  },
  {
   "cell_type": "code",
   "execution_count": 22,
   "id": "728d0ed9-6d9b-49dd-8b24-ae9ac4de67ea",
   "metadata": {},
   "outputs": [],
   "source": [
    "emb = C[Xb]                                       # Embed characters into vectors\n",
    "embcat = emb.view(emb.shape[0], -1)               # Concatenate embedding for the context\n",
    "# First linear layer\n",
    "hprebn = embcat @ W1 + b1                         # pre-activation\n",
    "# Batch norm\n",
    "bnmeani = (1 / n)*hprebn.sum(0, keepdim=True)    # compute the mean of the batch\n",
    "bndiff = hprebn - bnmeani                       \n",
    "bndiff2 = bndiff**2\n",
    "bnvar = (1/(n-1)) * bndiff2.sum(0, keepdim=True)  # Bessel's correction: divide by n-1 not n\n",
    "bnvar_inv = (bnvar + 1e-5)**(-0.5)\n",
    "bnraw = bndiff * bnvar_inv                        # Divide by the variance\n",
    "hpreact = bngain * bnraw + bnbias                 # Shift and rescale the Batch Norm\n",
    "# Non-linearity\n",
    "h = torch.tanh(hpreact)                           # Hidden layer\n",
    "# Second Linear layer\n",
    "logits = h @ W2 + b2\n",
    "# Cross-entropy loss\n",
    "logit_maxes = logits.max(1, keepdim=True).values\n",
    "norm_logits = logits - logit_maxes        \n",
    "counts = norm_logits.exp()\n",
    "counts_sum = counts.sum(1, keepdims=True)\n",
    "counts_sum_inv = counts_sum**-1                   # If we use (1./counts_sum) instead then we can't get backprop to be bit exact\n",
    "probs = counts * counts_sum_inv\n",
    "logprobs = probs.log()\n",
    "loss = -logprobs[range(n), Yb].mean()"
   ]
  },
  {
   "cell_type": "markdown",
   "id": "4adb1892-388a-4d48-a5d9-95f6b35b02e5",
   "metadata": {},
   "source": [
    "# Backward Pass"
   ]
  },
  {
   "cell_type": "code",
   "execution_count": 23,
   "id": "f4132e08-0def-4aaa-9d74-d085928baf43",
   "metadata": {},
   "outputs": [
    {
     "data": {
      "text/plain": [
       "tensor(3.5571, grad_fn=<NegBackward0>)"
      ]
     },
     "execution_count": 23,
     "metadata": {},
     "output_type": "execute_result"
    }
   ],
   "source": [
    "for p in parameters:\n",
    "    p.grad = None\n",
    "for t in [logprobs, probs, counts, counts_sum, counts_sum_inv, \n",
    "          norm_logits, logit_maxes, logits, h, hpreact, bnraw, \n",
    "          bnvar_inv, bnvar, bndiff2, bndiff, hprebn, bnmeani, \n",
    "          embcat, emb]:\n",
    "    t.retain_grad()  # retain the gradient, meaning that all these intermediary values keep i\n",
    "loss.backward()\n",
    "loss"
   ]
  },
  {
   "cell_type": "code",
   "execution_count": 68,
   "id": "e64e368a-4639-4331-99ec-bb46c0824209",
   "metadata": {},
   "outputs": [
    {
     "name": "stdout",
     "output_type": "stream",
     "text": [
      "logprobs        | exact: True  | approximate: True  | maxdiff: 0.0\n",
      "probs           | exact: True  | approximate: True  | maxdiff: 0.0\n",
      "counts_sum_inv  | exact: True  | approximate: True  | maxdiff: 0.0\n",
      "counts          | exact: True  | approximate: True  | maxdiff: 0.0\n",
      "counts_sum      | exact: True  | approximate: True  | maxdiff: 0.0\n",
      "norm_logits     | exact: True  | approximate: True  | maxdiff: 0.0\n",
      "logit_maxes     | exact: True  | approximate: True  | maxdiff: 0.0\n",
      "logits          | exact: True  | approximate: True  | maxdiff: 0.0\n",
      "dh              | exact: True  | approximate: True  | maxdiff: 0.0\n",
      "dW2             | exact: True  | approximate: True  | maxdiff: 0.0\n",
      "db2             | exact: True  | approximate: True  | maxdiff: 0.0\n",
      "hpreact         | exact: True  | approximate: True  | maxdiff: 0.0\n",
      "bngain          | exact: True  | approximate: True  | maxdiff: 0.0\n",
      "bnraw           | exact: True  | approximate: True  | maxdiff: 0.0\n",
      "bnbias          | exact: True  | approximate: True  | maxdiff: 0.0\n",
      "bndiff          | exact: True  | approximate: True  | maxdiff: 0.0\n",
      "bnvar_inv       | exact: True  | approximate: True  | maxdiff: 0.0\n",
      "bnvar           | exact: True  | approximate: True  | maxdiff: 0.0\n",
      "bndiff2         | exact: True  | approximate: True  | maxdiff: 0.0\n",
      "dhprebn         | exact: True  | approximate: True  | maxdiff: 0.0\n",
      "dbnmeani        | exact: True  | approximate: True  | maxdiff: 0.0\n",
      "dembcat         | exact: True  | approximate: True  | maxdiff: 0.0\n",
      "W1              | exact: True  | approximate: True  | maxdiff: 0.0\n",
      "b1              | exact: True  | approximate: True  | maxdiff: 0.0\n",
      "emb             | exact: True  | approximate: True  | maxdiff: 0.0\n",
      "C               | exact: True  | approximate: True  | maxdiff: 0.0\n"
     ]
    }
   ],
   "source": [
    "# dloss/dlogprob\n",
    "# The expression is `loss = -logprobs[range(n), Yb].mean()`. It is the negative of the mean\n",
    "# The derivative of this is an element with all -1/n. The other elements in logprobs do not\n",
    "# contribute to the loss, so their derivative is zero\n",
    "dlogprobs = torch.zeros_like(logprobs)  # to avoid hard-coding numbers\n",
    "dlogprobs[range(n), Yb] = -1./n\n",
    "\n",
    "# dloss/dprobs = (dloss / dlogprob) * (dlogprob / dprob)\n",
    "# Since logprob = probs.log() we have\n",
    "dprobs = (1.0 / probs) * dlogprobs\n",
    "\n",
    "# dloss/dcounts_sum_inv = (dloss/dprobs) * (dprobs / dcounts_sum_inv)\n",
    "# To understand the second term `(dprobs / dcounts_sum_inv)`, notice that the expression `probs = counts * counts_sum_inv`\n",
    "# actually contains two operations because `counts` is `(32, 27)` but `counts_sum_inv` is `(32, 1)` so it has been replicated.\n",
    "# Replication means that the same value has been used 27 times, one time per column. When a value gets used multiple times, we just sum \n",
    "# up the contributions. Since each of these contributions would be `dprobs * counts` we just sum them up on axis 1\n",
    "dcounts_sum_inv = (counts * dprobs).sum(1, keepdim=True)  # Keepdim=True to keep it at `(32, 1)` rather than `(32,)`\n",
    "\n",
    "# `dloss/dcounts` is more tricky because ` counts_sum_inv` depends on `counts`.\n",
    "# For now we only compute `(dloss/dprobs) * (dprobs / dcounts)` but we need the second branch\n",
    "dcounts = dprobs * counts_sum_inv\n",
    "\n",
    "# dcounts_sum = -(counts_sum)^(-2) * chain_rule...\n",
    "dcounts_sum = (-counts_sum**-2) * dcounts_sum_inv\n",
    "\n",
    "# Second branch of dcounts\n",
    "dcounts += torch.ones_like(counts) * dcounts_sum \n",
    "\n",
    "# the rest..\n",
    "dnorm_logits = counts * dcounts\n",
    "dlogits = dnorm_logits.clone()    # for safety\n",
    "dlogit_maxes = (-dnorm_logits).sum(1, keepdim=True)\n",
    "dlogits += F.one_hot(logits.max(1).indices, num_classes=logits.shape[1]) * dlogit_maxes  \n",
    "dh = dlogits @ W2.T \n",
    "dW2 = h.T @ dlogits\n",
    "db2 = dlogits.sum(0)\n",
    "dhpreact = (1.0 - h**2) * dh\n",
    "dbngain = (bnraw * dhpreact).sum(0, keepdim=True)\n",
    "dbnraw = bngain * dhpreact\n",
    "dbnbias = dhpreact.sum(0, keepdim=True)\n",
    "dbndiff = bnvar_inv *dbnraw   # first branch\n",
    "dbnvar_inv = (bndiff * dbnraw).sum(0, keepdim=True)\n",
    "dbnvar = (-0.5*(bnvar + 1e-5)**(-1.5)) * dbnvar_inv\n",
    "dbndiff2 = (1.0 / (n-1)) * torch.ones_like(bndiff2) * dbnvar\n",
    "dbndiff += (2*bndiff) * dbndiff2\n",
    "dhprebn = dbndiff.clone() \n",
    "dbnmeani = (-dbndiff).sum(0)\n",
    "dhprebn += (1.0/n) * torch.ones_like(hprebn) * dbnmeani\n",
    "dembcat = dhprebn @ W1.T\n",
    "dW1 = embcat.T @ dhprebn\n",
    "db1 = dhprebn.sum(0, keepdim=True)\n",
    "demb = dembcat.view(emb.shape)\n",
    "dC = torch.zeros_like(C)\n",
    "for k in range(Xb.shape[0]):\n",
    "    for j in range(Xb.shape[1]):\n",
    "        ix = Xb[k, j]\n",
    "        dC[ix] += demb[k, j]\n",
    "\n",
    "\n",
    "cmp('logprobs', dlogprobs, logprobs)\n",
    "cmp('probs', dprobs, probs)\n",
    "cmp('counts_sum_inv', dcounts_sum_inv, counts_sum_inv)\n",
    "cmp('counts', dcounts, counts)\n",
    "cmp('counts_sum', dcounts_sum, counts_sum)\n",
    "cmp('norm_logits', dnorm_logits, norm_logits)\n",
    "cmp('logit_maxes', dlogit_maxes, logit_maxes) \n",
    "cmp('logits', dlogits, logits) \n",
    "cmp('dh', dh, h)\n",
    "cmp('dW2', dW2, W2)\n",
    "cmp('db2', db2, b2)\n",
    "cmp('hpreact', dhpreact, hpreact)\n",
    "cmp('bngain', dbngain, bngain)\n",
    "cmp('bnraw', dbnraw, bnraw)\n",
    "cmp('bnbias', dbnbias, bnbias)\n",
    "cmp('bndiff', dbndiff, bndiff)\n",
    "cmp('bnvar_inv', dbnvar_inv, bnvar_inv)\n",
    "cmp('bnvar', dbnvar, bnvar)\n",
    "cmp('bndiff2', dbndiff2, bndiff2)\n",
    "cmp('dhprebn', dhprebn, hprebn)\n",
    "cmp('dbnmeani', dbnmeani, bnmeani)\n",
    "cmp('dembcat', dembcat, embcat)\n",
    "cmp('W1', dW1, W1)\n",
    "cmp('b1', db1, b1)\n",
    "cmp('emb', demb, emb)\n",
    "cmp('C', dC, C)"
   ]
  },
  {
   "cell_type": "markdown",
   "id": "e5ca225b-d731-4229-aec8-2934ac559afc",
   "metadata": {},
   "source": [
    "A quick note: in the original batch norm paper they use $1/m$ for the sample variance at test time, but $1/(m-1)$ at training time (or the other way around). This is confusing and typically one should avoid train-test discrepancies, especially when unmotivated."
   ]
  },
  {
   "cell_type": "code",
   "execution_count": 69,
   "id": "525d37e8-c56f-480e-b2e6-9763bb22be4a",
   "metadata": {},
   "outputs": [
    {
     "name": "stdout",
     "output_type": "stream",
     "text": [
      "logits          | exact: False | approximate: True  | maxdiff: 6.51925802230835e-09\n"
     ]
    }
   ],
   "source": [
    "# simpler version for dlogits\n",
    "dlogits = F.softmax(logits, 1)\n",
    "dlogits[range(n), Yb] -= 1.0\n",
    "dlogits /= n\n",
    "\n",
    "\n",
    "cmp('logits', dlogits, logits)"
   ]
  },
  {
   "cell_type": "code",
   "execution_count": null,
   "id": "54d2973c-acaa-4de0-b557-6ee1a8d5fcfb",
   "metadata": {},
   "outputs": [],
   "source": []
  }
 ],
 "metadata": {
  "kernelspec": {
   "display_name": "Python 3 (ipykernel)",
   "language": "python",
   "name": "python3"
  },
  "language_info": {
   "codemirror_mode": {
    "name": "ipython",
    "version": 3
   },
   "file_extension": ".py",
   "mimetype": "text/x-python",
   "name": "python",
   "nbconvert_exporter": "python",
   "pygments_lexer": "ipython3",
   "version": "3.12.3"
  }
 },
 "nbformat": 4,
 "nbformat_minor": 5
}
