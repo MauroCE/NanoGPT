{
 "cells": [
  {
   "cell_type": "markdown",
   "id": "6deefa8a-c68a-4ffe-9b9e-949ebbca873b",
   "metadata": {},
   "source": [
    "# Building a WaveNet\n",
    "Based on [this paper](https://arxiv.org/abs/1609.03499). It is an autoregressive model initially used to predict audio, but can equally be used for language modelling."
   ]
  },
  {
   "cell_type": "code",
   "execution_count": 38,
   "id": "cd73ee32-788f-4eb7-9ccf-aa762c286309",
   "metadata": {},
   "outputs": [
    {
     "name": "stdout",
     "output_type": "stream",
     "text": [
      "torch.Size([182625, 8]) torch.Size([182625])\n",
      "torch.Size([22655, 8]) torch.Size([22655])\n",
      "torch.Size([22866, 8]) torch.Size([22866])\n"
     ]
    }
   ],
   "source": [
    "# CODE FROM PREVIOUS SESSIONS (SPECIFICALLY VIDEO 3, THE ONE BEFORE THE BACKPROP NINJA)\n",
    "import torch\n",
    "import torch.nn.functional as F\n",
    "import matplotlib.pyplot as plt\n",
    "%matplotlib inline \n",
    "\n",
    "# Read data\n",
    "names = open(\"names.txt\", \"r\").read().splitlines()\n",
    "\n",
    "# Build vocabulary\n",
    "characters = sorted(list(set(''.join(names))))\n",
    "str_to_int = {s:i+1 for i, s in enumerate(characters)}\n",
    "str_to_int['.'] = 0.0\n",
    "int_to_str = {i:s for s, i in str_to_int.items()}\n",
    "vocab_size = len(int_to_str)\n",
    "\n",
    "block_size = 8  # context size\n",
    "\n",
    "def build_dataset(names):\n",
    "    X, Y = [], []\n",
    "    for name in names:\n",
    "        context = [0] * block_size\n",
    "        for character in name + \".\":\n",
    "            ix = str_to_int[character]\n",
    "            X.append(context)\n",
    "            Y.append(ix)\n",
    "            context = context[1:] + [ix]\n",
    "    X = torch.tensor(X)\n",
    "    Y = torch.tensor(Y, dtype=torch.long)\n",
    "    print(X.shape, Y.shape)\n",
    "    return X, Y\n",
    "\n",
    "import random \n",
    "random.seed(42)\n",
    "random.shuffle(names)\n",
    "n1 = int(0.8*len(names))\n",
    "n2 = int(0.9*len(names))\n",
    "\n",
    "Xtr, Ytr = build_dataset(names[:n1])\n",
    "Xdev, Ydev = build_dataset(names[n1:n2])\n",
    "Xte, Yte = build_dataset(names[n2:])"
   ]
  },
  {
   "cell_type": "code",
   "execution_count": 39,
   "id": "1fe84191-be16-4e00-bc77-bea97ebe418f",
   "metadata": {},
   "outputs": [
    {
     "name": "stdout",
     "output_type": "stream",
     "text": [
      "........ --> y\n",
      ".......y --> u\n",
      "......yu --> h\n",
      ".....yuh --> e\n",
      "....yuhe --> n\n",
      "...yuhen --> g\n",
      "..yuheng --> .\n",
      "........ --> d\n",
      ".......d --> i\n",
      "......di --> o\n",
      ".....dio --> n\n",
      "....dion --> d\n",
      "...diond --> r\n",
      "..diondr --> e\n",
      ".diondre --> .\n",
      "........ --> x\n",
      ".......x --> a\n",
      "......xa --> v\n",
      ".....xav --> i\n",
      "....xavi --> e\n"
     ]
    }
   ],
   "source": [
    "for x, y in zip(Xtr[:20], Ytr[:20]):\n",
    "    print(''.join(int_to_str[ix.item()] for ix in x), '-->', int_to_str[y.item()])"
   ]
  },
  {
   "cell_type": "markdown",
   "id": "016cda39-570c-4ca4-8018-3bf18ed92444",
   "metadata": {},
   "source": [
    "# Linear Layer"
   ]
  },
  {
   "cell_type": "code",
   "execution_count": 40,
   "id": "bbbb4640-52aa-4694-90fd-70ba8b2f3972",
   "metadata": {},
   "outputs": [],
   "source": [
    "class Linear:\n",
    "\n",
    "    def __init__(self, fan_in, fan_out, bias=True):\n",
    "        self.weight = torch.randn((fan_in, fan_out)) / fan_in**0.5\n",
    "        self.bias = torch.zeros(fan_out) if bias else None\n",
    "\n",
    "    def __call__(self, x):\n",
    "        self.out = x @ self.weight\n",
    "        if self.bias is not None:\n",
    "            self.out += self.bias\n",
    "        return self.out\n",
    "\n",
    "    def parameters(self):\n",
    "        return [self.weight] + ([] if self.bias is None else [self.bias])"
   ]
  },
  {
   "cell_type": "markdown",
   "id": "13e124b9-407d-4393-8abb-64c74b5232c6",
   "metadata": {},
   "source": [
    "# Batch Norm Layer"
   ]
  },
  {
   "cell_type": "code",
   "execution_count": 41,
   "id": "30dde12f-6442-49ca-b18b-3939d0045fb1",
   "metadata": {},
   "outputs": [],
   "source": [
    "class BatchNorm1d:\n",
    "\n",
    "    def __init__(self, dim, eps=1e-5, momentum=0.1):\n",
    "        self.eps = eps\n",
    "        self.momentum = momentum\n",
    "        # the self.training attribute is actually present in Pytorch too because many layers have a different \n",
    "        # behavior based on whether you are during training or inference\n",
    "        self.training = True\n",
    "        # Parameters (trained with backprop)\n",
    "        self.gamma = torch.ones(dim)\n",
    "        self.beta = torch.zeros(dim)\n",
    "        # Buffers (trained with a running momentum update)\n",
    "        self.running_mean = torch.zeros(dim)\n",
    "        self.running_var = torch.ones(dim)\n",
    "\n",
    "    def __call__(self, x):\n",
    "        # Calculate forward pass differently if we are in training or inference mode\n",
    "        if self.training:\n",
    "            # During training we estimate the from the batch\n",
    "            xmean = x.mean(0, keepdim=True)\n",
    "            xvar = x.var(0, keepdim=True)\n",
    "        else:\n",
    "            # During inference we use the running ones\n",
    "            xmean = self.running_mean\n",
    "            xvar = self.running_var\n",
    "        xhat = (x - xmean) / torch.sqrt(xvar + self.eps)\n",
    "        self.out = self.gamma*xhat + self.beta\n",
    "        # Update buffers\n",
    "        if self.training:\n",
    "            with torch.no_grad():\n",
    "                self.running_mean = (1 - self.momentum)*self.running_mean + self.momentum*xmean\n",
    "                self.running_var = (1 - self.momentum)*self.running_var + self.momentum*xvar\n",
    "        return self.out\n",
    "\n",
    "    def parameters(self):\n",
    "        return [self.gamma, self.beta]"
   ]
  },
  {
   "cell_type": "markdown",
   "id": "334b3406-0d83-46c1-a91b-8e3ea1fc6195",
   "metadata": {},
   "source": [
    "# Tanh Layer"
   ]
  },
  {
   "cell_type": "code",
   "execution_count": 42,
   "id": "b09526a1-4826-492c-ae17-29d878c60b72",
   "metadata": {},
   "outputs": [],
   "source": [
    "class Tanh:\n",
    "    def __call__(self, x):\n",
    "        self.out = torch.tanh(x)\n",
    "        return self.out\n",
    "    def parameters(self):\n",
    "        return []"
   ]
  },
  {
   "cell_type": "markdown",
   "id": "51518284-2618-43be-93f0-cb912c6a14ad",
   "metadata": {},
   "source": [
    "# Embedding Layer\n",
    "Inspired by [Pytorch's embedding module](https://pytorch.org/docs/stable/generated/torch.nn.Embedding.html)."
   ]
  },
  {
   "cell_type": "code",
   "execution_count": 43,
   "id": "de418b44-9454-42e4-a423-b7b642c65bed",
   "metadata": {},
   "outputs": [],
   "source": [
    "class Embedding:\n",
    "\n",
    "    def __init__(self, num_embeddings, embedding_dim):\n",
    "        self.weight = torch.randn((num_embeddings, embedding_dim))\n",
    "\n",
    "    def __call__(self, IX):\n",
    "        self.out = self.weight[IX]\n",
    "        return self.out\n",
    "\n",
    "    def parameters(self):\n",
    "        return [self.weight]"
   ]
  },
  {
   "cell_type": "markdown",
   "id": "93e290e6-8714-48d7-b05a-4c75502ff2d1",
   "metadata": {},
   "source": [
    "# Flattening Layer"
   ]
  },
  {
   "cell_type": "code",
   "execution_count": 44,
   "id": "86bb2d54-df07-40e0-a043-7d972d0278f3",
   "metadata": {},
   "outputs": [],
   "source": [
    "class Flatten:\n",
    "\n",
    "    def __call__(self, x):\n",
    "        self.out = x.view(x.shape[0], -1)\n",
    "        return self.out\n",
    "\n",
    "    def parameters(self):\n",
    "        return []"
   ]
  },
  {
   "cell_type": "markdown",
   "id": "c7e50cac-68bf-4466-a27f-f1a103227945",
   "metadata": {},
   "source": [
    "# Containers\n",
    "Inspired by [this](https://pytorch.org/docs/stable/nn.html#containers). Containers are a way of organising layers in lists, or dicts and so on.\n",
    "\n",
    "- Sequential: maintains a list of layers"
   ]
  },
  {
   "cell_type": "code",
   "execution_count": 45,
   "id": "b0e69816-d985-4446-bae2-2b20f77a8c2e",
   "metadata": {},
   "outputs": [],
   "source": [
    "class Sequential:\n",
    "\n",
    "    def __init__(self, layers):\n",
    "        self.layers = layers\n",
    "\n",
    "    def __call__(self, x):\n",
    "        for layer in self.layers:\n",
    "            x = layer(x)\n",
    "        self.out = x\n",
    "        return self.out\n",
    "\n",
    "    def parameters(self):\n",
    "        return [p for layer in self.layers for p in layer.parameters()]"
   ]
  },
  {
   "cell_type": "markdown",
   "id": "27b5cbca-da33-46d8-b14e-0e99a0f0136c",
   "metadata": {},
   "source": [
    "# Initialization"
   ]
  },
  {
   "cell_type": "code",
   "execution_count": 46,
   "id": "7ef5387f-24b2-414c-9973-3f75a3dc409e",
   "metadata": {},
   "outputs": [],
   "source": [
    "torch.manual_seed(42);"
   ]
  },
  {
   "cell_type": "code",
   "execution_count": 47,
   "id": "f22df748-7e46-40ae-8d95-a48d8d1a36a3",
   "metadata": {},
   "outputs": [
    {
     "name": "stdout",
     "output_type": "stream",
     "text": [
      "22097\n"
     ]
    }
   ],
   "source": [
    "n_emb = 10        # Dimension of character embedding vectors\n",
    "n_hidden = 200    # Number of neurons in hidden layer\n",
    "\n",
    "model = Sequential([\n",
    "    Embedding(vocab_size, n_emb),\n",
    "    Flatten(),\n",
    "    Linear(n_emb * block_size, n_hidden, bias=False), BatchNorm1d(n_hidden), Tanh(),\n",
    "    Linear(n_hidden, vocab_size)\n",
    "])\n",
    "\n",
    "# Initialize parameters\n",
    "with torch.no_grad():\n",
    "    layers[-1].weight *= 0.1  # last layer make less confident\n",
    "\n",
    "parameters = model.parameters()\n",
    "print(sum(p.nelement() for p in parameters))\n",
    "for p in parameters:\n",
    "    p.requires_grad = True"
   ]
  },
  {
   "cell_type": "markdown",
   "id": "67355090-9cd9-486c-be48-2ac86a7b7e4b",
   "metadata": {},
   "source": [
    "# Optimization: Forward and Backward"
   ]
  },
  {
   "cell_type": "code",
   "execution_count": 49,
   "id": "4e1a3a9b-496e-4d0d-943b-514126a839f1",
   "metadata": {},
   "outputs": [
    {
     "name": "stdout",
     "output_type": "stream",
     "text": [
      "      0/ 200000: 3.5264\n",
      "  10000/ 200000: 2.0869\n",
      "  20000/ 200000: 1.8108\n",
      "  30000/ 200000: 1.7679\n",
      "  40000/ 200000: 2.1007\n",
      "  50000/ 200000: 2.2974\n",
      "  60000/ 200000: 1.9454\n",
      "  70000/ 200000: 2.1149\n",
      "  80000/ 200000: 2.3994\n",
      "  90000/ 200000: 2.1124\n",
      " 100000/ 200000: 1.9663\n",
      " 110000/ 200000: 1.7082\n",
      " 120000/ 200000: 1.8336\n",
      " 130000/ 200000: 2.6430\n",
      " 140000/ 200000: 2.4456\n",
      " 150000/ 200000: 1.4696\n",
      " 160000/ 200000: 2.1534\n",
      " 170000/ 200000: 2.1378\n",
      " 180000/ 200000: 1.8842\n",
      " 190000/ 200000: 1.9092\n"
     ]
    }
   ],
   "source": [
    "max_steps = 200000\n",
    "batch_size = 32\n",
    "lossi = []\n",
    "\n",
    "for i in range(max_steps):\n",
    "    # Minibatch\n",
    "    ix = torch.randint(0, Xtr.shape[0], (batch_size,))\n",
    "    Xb, Yb = Xtr[ix], Ytr[ix]\n",
    "\n",
    "    # Forward pass\n",
    "    logits = model(Xb)\n",
    "    loss = F.cross_entropy(logits, Yb)\n",
    "\n",
    "    # Zero gradients\n",
    "    for p in parameters:\n",
    "        p.grad = None\n",
    "\n",
    "    # Backward pass  \n",
    "    loss.backward()\n",
    "    \n",
    "    # Gradient descent\n",
    "    lr = 0.1 if i < 150000 else 0.01  # step learning rate decay\n",
    "    for p in parameters:\n",
    "        p.data += -lr * p.grad\n",
    "\n",
    "    # track statistics\n",
    "    if i % 10000 == 0:\n",
    "        print(f\"{i:7d}/{max_steps:7d}: {loss.item():.4f}\")\n",
    "    lossi.append(loss.log10().item())"
   ]
  },
  {
   "cell_type": "code",
   "execution_count": 34,
   "id": "d18eba6f-f25f-45f8-b1b7-7e7cc6526f2e",
   "metadata": {},
   "outputs": [
    {
     "data": {
      "text/plain": [
       "[<matplotlib.lines.Line2D at 0x318319d60>]"
      ]
     },
     "execution_count": 34,
     "metadata": {},
     "output_type": "execute_result"
    },
    {
     "data": {
      "image/png": "[encoded data removed]",
      "text/plain": [
       "<Figure size 640x480 with 1 Axes>"
      ]
     },
     "metadata": {},
     "output_type": "display_data"
    }
   ],
   "source": [
    "# One could use this `plt.plot(lossi)` but it would be ugly. Instead we plot the average over 1000 consecutive values\n",
    "plt.plot(torch.tensor(lossi).view(-1, 1000).mean(1))"
   ]
  },
  {
   "cell_type": "markdown",
   "id": "74cd71c6-b442-47b5-b32a-c0ee0d1fbe4e",
   "metadata": {},
   "source": [
    "# Evaluation"
   ]
  },
  {
   "cell_type": "code",
   "execution_count": 50,
   "id": "2dd4b5b6-d942-49c0-9d8b-22fc39cd5197",
   "metadata": {},
   "outputs": [],
   "source": [
    "# put layers into evaluation mode (especially useful for batch norm)\n",
    "for layer in model.layers:\n",
    "    layer.training = False"
   ]
  },
  {
   "cell_type": "code",
   "execution_count": 51,
   "id": "3648c526-77a4-4c9d-a32f-18fc43a64817",
   "metadata": {},
   "outputs": [
    {
     "name": "stdout",
     "output_type": "stream",
     "text": [
      "train 1.9185806512832642\n",
      "val 2.0274710655212402\n"
     ]
    }
   ],
   "source": [
    "@torch.no_grad()  # disables gradient tracking\n",
    "def split_loss(split):\n",
    "    x, y = {\n",
    "        'train': (Xtr, Ytr),\n",
    "        'val': (Xdev, Ydev),\n",
    "        'test': (Xte, Yte)\n",
    "    }[split]\n",
    "    logits = model(x)\n",
    "    loss = F.cross_entropy(logits, y)\n",
    "    print(split, loss.item())\n",
    "\n",
    "split_loss('train')\n",
    "split_loss('val')"
   ]
  },
  {
   "cell_type": "markdown",
   "id": "058c2d2a-cd7a-4430-969c-a05b61aa5550",
   "metadata": {},
   "source": [
    "# Sample from the model"
   ]
  },
  {
   "cell_type": "code",
   "execution_count": 52,
   "id": "665f1614-31db-442b-a4ea-0cb234026c35",
   "metadata": {
    "scrolled": true
   },
   "outputs": [
    {
     "name": "stdout",
     "output_type": "stream",
     "text": [
      "odes.\n",
      "aniyar.\n",
      "gacy.\n",
      "denasion.\n",
      "brenny.\n",
      "jockerya.\n",
      "tiglei.\n",
      "allestine.\n",
      "sonian.\n",
      "mamerich.\n",
      "aalia.\n",
      "marmareo.\n",
      "riskeel.\n",
      "keylah.\n",
      "argny.\n",
      "jessier.\n",
      "amil.\n",
      "caylynn.\n",
      "azriak.\n",
      "kalleah.\n"
     ]
    }
   ],
   "source": [
    "for _ in range(20):\n",
    "\n",
    "    out = []\n",
    "    context = [0] * block_size   # initialize with all dots\n",
    "    while True:\n",
    "        logits = model(torch.tensor([context]))\n",
    "        probs = F.softmax(logits, dim=1)\n",
    "        ix = torch.multinomial(probs, num_samples=1, replacement=True).item()\n",
    "        # shift context window and track the samples\n",
    "        context = context[1:] + [ix]\n",
    "        out.append(ix)\n",
    "        if ix == 0:\n",
    "            break\n",
    "\n",
    "    print(''.join(int_to_str[i] for i in out))"
   ]
  },
  {
   "cell_type": "markdown",
   "id": "e8959341-b6e7-4700-a58a-95f66fffa649",
   "metadata": {},
   "source": [
    "# Building an intuition\n",
    "- `Xb` has shape `(batch_size, context)`\n",
    "- `C[Xb]` has shape `(batch_size, context, embedding_dimension)`\n",
    "- `Flatten(C[Xb])` has shape `(batch_size, context * embedding_dimension)`\n",
    "- `LinearLayer(Flatten(C[Xb]))` has shape `(batch_size, n_hidden)`"
   ]
  },
  {
   "cell_type": "code",
   "execution_count": 57,
   "id": "5168e996-1d84-44d6-ad67-53324b7b263a",
   "metadata": {},
   "outputs": [
    {
     "name": "stdout",
     "output_type": "stream",
     "text": [
      "torch.Size([4, 8])\n"
     ]
    },
    {
     "data": {
      "text/plain": [
       "tensor([[ 0,  0,  0,  0,  0,  0,  0,  0],\n",
       "        [ 0,  0, 22,  9, 19, 13,  1, 25],\n",
       "        [ 0,  0,  0,  0,  0,  1, 13,  1],\n",
       "        [ 0,  0,  0,  0,  0,  9, 13,  1]])"
      ]
     },
     "execution_count": 57,
     "metadata": {},
     "output_type": "execute_result"
    }
   ],
   "source": [
    "ix = torch.randint(0, Xtr.shape[0], (4, ))  # grab the indices of 4 examples at random\n",
    "Xb, Yb = Xtr[ix], Ytr[ix]\n",
    "logits = model(Xb)\n",
    "print(Xb.shape)\n",
    "Xb"
   ]
  },
  {
   "cell_type": "markdown",
   "id": "1e27fa86-7a5e-4cd5-934a-de818c55ef4b",
   "metadata": {},
   "source": [
    "Currently, the Flatten layer grabs an input of shape `(batch_size, context, embedding_dimension)` and then basically stretches out the last two dimensions. However, we want to do something autoregressive, meaning that we want to process 2 characters at the time. Since we are working with embeddings, we really want to process two embeddings at a time, each of which has dimension `n_emb=10` in this case."
   ]
  },
  {
   "cell_type": "markdown",
   "id": "503a8df2-475f-480d-97b8-bc67f635c80e",
   "metadata": {},
   "source": [
    "Notice that `view` does exactly the right thing:"
   ]
  },
  {
   "cell_type": "code",
   "execution_count": 58,
   "id": "1f729e14-bff0-4fa0-9419-3ed541029456",
   "metadata": {},
   "outputs": [
    {
     "data": {
      "text/plain": [
       "torch.Size([4, 4, 20])"
      ]
     },
     "execution_count": 58,
     "metadata": {},
     "output_type": "execute_result"
    }
   ],
   "source": [
    "e = torch.randn(4, 8, 10) # want this to be (4, 4, 20) where consecutive 10-d vectors get concatenated\n",
    "explicit = torch.cat([e[:, ::2, :], e[:, 1::2, :]], dim=2)\n",
    "explicit.shape"
   ]
  },
  {
   "cell_type": "code",
   "execution_count": 59,
   "id": "a74b8ecf-b552-4cd0-b2b8-b20be39ee6e4",
   "metadata": {},
   "outputs": [
    {
     "data": {
      "text/plain": [
       "tensor(True)"
      ]
     },
     "execution_count": 59,
     "metadata": {},
     "output_type": "execute_result"
    }
   ],
   "source": [
    "(e.view(4, 4, 20) == explicit).all()"
   ]
  },
  {
   "cell_type": "markdown",
   "id": "895f6851-28d4-4d21-9338-29897926bafa",
   "metadata": {},
   "source": [
    "# New Flatten Layer"
   ]
  },
  {
   "cell_type": "code",
   "execution_count": 63,
   "id": "dfda0f43-b242-4b3b-880b-ef58648d0e42",
   "metadata": {},
   "outputs": [],
   "source": [
    "class FlattenConsecutive:\n",
    "\n",
    "    def __init__(self, n):\n",
    "        self.n = n\n",
    "\n",
    "    def __call__(self, x):\n",
    "        B, T, C = x.shape  # B = batch dimension, T = context dimension, C = embedding dimension\n",
    "        x = x.view(B, T//self.n, C*self.n)\n",
    "        if x.shape[1] == 1:\n",
    "            x = x.squeeze(1)\n",
    "        self.out = x\n",
    "        return self.out\n",
    "\n",
    "    def parameters(self):\n",
    "        return []"
   ]
  },
  {
   "cell_type": "code",
   "execution_count": 64,
   "id": "cc5036e1-983f-47f9-a83f-19f3a78e510b",
   "metadata": {},
   "outputs": [
    {
     "name": "stdout",
     "output_type": "stream",
     "text": [
      "22097\n"
     ]
    }
   ],
   "source": [
    "torch.manual_seed(42);\n",
    "\n",
    "n_emb = 10        # Dimension of character embedding vectors\n",
    "n_hidden = 200    # Number of neurons in hidden layer\n",
    "\n",
    "model = Sequential([\n",
    "    Embedding(vocab_size, n_emb),\n",
    "    FlattenConsecutive(block_size),\n",
    "    Linear(n_emb * block_size, n_hidden, bias=False), BatchNorm1d(n_hidden), Tanh(),\n",
    "    Linear(n_hidden, vocab_size)\n",
    "])\n",
    "\n",
    "# Initialize parameters\n",
    "with torch.no_grad():\n",
    "    layers[-1].weight *= 0.1  # last layer make less confident\n",
    "\n",
    "parameters = model.parameters()\n",
    "print(sum(p.nelement() for p in parameters))\n",
    "for p in parameters:\n",
    "    p.requires_grad = True"
   ]
  },
  {
   "cell_type": "markdown",
   "id": "47e1128e-0c56-4292-84b4-d25a94e96ee8",
   "metadata": {},
   "source": [
    "`FlattenConsecutive(block_size)` should recover the previous model"
   ]
  },
  {
   "cell_type": "code",
   "execution_count": 65,
   "id": "ab07a44d-a08a-4967-bf03-ec16b9384ce3",
   "metadata": {},
   "outputs": [
    {
     "name": "stdout",
     "output_type": "stream",
     "text": [
      "torch.Size([4, 8])\n"
     ]
    },
    {
     "data": {
      "text/plain": [
       "tensor([[ 0,  0,  0,  0,  0,  0, 12, 15],\n",
       "        [ 0,  0,  0,  0,  0,  0, 20,  1],\n",
       "        [ 0,  0,  0,  0,  0,  0,  0,  0],\n",
       "        [ 0,  0,  0,  0,  0,  0,  0, 11]])"
      ]
     },
     "execution_count": 65,
     "metadata": {},
     "output_type": "execute_result"
    }
   ],
   "source": [
    "ix = torch.randint(0, Xtr.shape[0], (4, ))  # grab the indices of 4 examples at random\n",
    "Xb, Yb = Xtr[ix], Ytr[ix]\n",
    "logits = model(Xb)\n",
    "print(Xb.shape)\n",
    "Xb"
   ]
  },
  {
   "cell_type": "code",
   "execution_count": 66,
   "id": "ca3d2c4f-1000-4339-842f-91a7881bd514",
   "metadata": {},
   "outputs": [
    {
     "name": "stdout",
     "output_type": "stream",
     "text": [
      "Embedding : (4, 8, 10)\n",
      "FlattenConsecutive : (4, 80)\n",
      "Linear : (4, 200)\n",
      "BatchNorm1d : (4, 200)\n",
      "Tanh : (4, 200)\n",
      "Linear : (4, 27)\n"
     ]
    }
   ],
   "source": [
    "for layer in model.layers:\n",
    "    print(layer.__class__.__name__, \":\", tuple(layer.out.shape))"
   ]
  },
  {
   "cell_type": "code",
   "execution_count": 72,
   "id": "6f4376d3-ff02-4321-bd6f-b5311170534e",
   "metadata": {},
   "outputs": [
    {
     "name": "stdout",
     "output_type": "stream",
     "text": [
      "22397\n"
     ]
    }
   ],
   "source": [
    "torch.manual_seed(42);\n",
    "\n",
    "n_emb = 10        # Dimension of character embedding vectors\n",
    "n_hidden = 68    # Number of neurons in hidden layer\n",
    "\n",
    "model = Sequential([\n",
    "    Embedding(vocab_size, n_emb),\n",
    "    FlattenConsecutive(n=2), Linear(n_emb * 2, n_hidden, bias=False), BatchNorm1d(n_hidden), Tanh(),\n",
    "    FlattenConsecutive(n=2), Linear(n_hidden * 2, n_hidden, bias=False), BatchNorm1d(n_hidden), Tanh(),\n",
    "    FlattenConsecutive(n=2), Linear(n_hidden * 2, n_hidden, bias=False), BatchNorm1d(n_hidden), Tanh(),\n",
    "    Linear(n_hidden, vocab_size)\n",
    "])\n",
    "\n",
    "# Initialize parameters\n",
    "with torch.no_grad():\n",
    "    layers[-1].weight *= 0.1  # last layer make less confident\n",
    "\n",
    "parameters = model.parameters()\n",
    "print(sum(p.nelement() for p in parameters))\n",
    "for p in parameters:\n",
    "    p.requires_grad = True"
   ]
  },
  {
   "cell_type": "code",
   "execution_count": 73,
   "id": "065cab3c-a1ad-44f0-a163-7ed59b900896",
   "metadata": {},
   "outputs": [
    {
     "name": "stdout",
     "output_type": "stream",
     "text": [
      "torch.Size([4, 8])\n"
     ]
    },
    {
     "data": {
      "text/plain": [
       "tensor([[ 0,  0,  0, 13,  9, 12,  9,  1],\n",
       "        [ 0,  0,  0,  1, 22,  1, 12, 25],\n",
       "        [ 0,  0,  0,  0,  0,  0,  0, 10],\n",
       "        [ 0,  0,  0,  0, 11,  8, 25, 14]])"
      ]
     },
     "execution_count": 73,
     "metadata": {},
     "output_type": "execute_result"
    }
   ],
   "source": [
    "ix = torch.randint(0, Xtr.shape[0], (4, ))  # grab the indices of 4 examples at random\n",
    "Xb, Yb = Xtr[ix], Ytr[ix]\n",
    "logits = model(Xb)\n",
    "print(Xb.shape)\n",
    "Xb"
   ]
  },
  {
   "cell_type": "code",
   "execution_count": 74,
   "id": "105675e3-a4f2-4982-ad00-a38798fe7067",
   "metadata": {},
   "outputs": [
    {
     "name": "stdout",
     "output_type": "stream",
     "text": [
      "Embedding : (4, 8, 10)\n",
      "FlattenConsecutive : (4, 4, 20)\n",
      "Linear : (4, 4, 68)\n",
      "BatchNorm1d : (4, 4, 68)\n",
      "Tanh : (4, 4, 68)\n",
      "FlattenConsecutive : (4, 2, 136)\n",
      "Linear : (4, 2, 68)\n",
      "BatchNorm1d : (4, 2, 68)\n",
      "Tanh : (4, 2, 68)\n",
      "FlattenConsecutive : (4, 136)\n",
      "Linear : (4, 68)\n",
      "BatchNorm1d : (4, 68)\n",
      "Tanh : (4, 68)\n",
      "Linear : (4, 27)\n"
     ]
    }
   ],
   "source": [
    "for layer in model.layers:\n",
    "    print(layer.__class__.__name__, \":\", tuple(layer.out.shape))"
   ]
  },
  {
   "cell_type": "markdown",
   "id": "175fd1f9-efe3-4331-ae40-2873a8aa6a6f",
   "metadata": {},
   "source": [
    "# Fixing Batch Norm"
   ]
  },
  {
   "cell_type": "code",
   "execution_count": 75,
   "id": "5b033e88-049f-456c-a1ea-b9909a7b6dbc",
   "metadata": {},
   "outputs": [],
   "source": [
    "class BatchNorm1d:\n",
    "\n",
    "    def __init__(self, dim, eps=1e-5, momentum=0.1):\n",
    "        self.eps = eps\n",
    "        self.momentum = momentum\n",
    "        # the self.training attribute is actually present in Pytorch too because many layers have a different \n",
    "        # behavior based on whether you are during training or inference\n",
    "        self.training = True\n",
    "        # Parameters (trained with backprop)\n",
    "        self.gamma = torch.ones(dim)\n",
    "        self.beta = torch.zeros(dim)\n",
    "        # Buffers (trained with a running momentum update)\n",
    "        self.running_mean = torch.zeros(dim)\n",
    "        self.running_var = torch.ones(dim)\n",
    "\n",
    "    def __call__(self, x):\n",
    "        # Calculate forward pass differently if we are in training or inference mode\n",
    "        if self.training:\n",
    "            if x.ndim == 2:\n",
    "                dim = 0\n",
    "            elif x.ndim == 3:\n",
    "                dim = (0, 1)\n",
    "            # During training we estimate the from the batch\n",
    "            xmean = x.mean(dim, keepdim=True)\n",
    "            xvar = x.var(dim, keepdim=True)\n",
    "        else:\n",
    "            # During inference we use the running ones\n",
    "            xmean = self.running_mean\n",
    "            xvar = self.running_var\n",
    "        xhat = (x - xmean) / torch.sqrt(xvar + self.eps)\n",
    "        self.out = self.gamma*xhat + self.beta\n",
    "        # Update buffers\n",
    "        if self.training:\n",
    "            with torch.no_grad():\n",
    "                self.running_mean = (1 - self.momentum)*self.running_mean + self.momentum*xmean\n",
    "                self.running_var = (1 - self.momentum)*self.running_var + self.momentum*xvar\n",
    "        return self.out\n",
    "\n",
    "    def parameters(self):\n",
    "        return [self.gamma, self.beta]"
   ]
  },
  {
   "cell_type": "markdown",
   "id": "7ae6497d-3c32-448d-a1a5-880b46450e38",
   "metadata": {},
   "source": [
    "IMPORTANT: This is departing from Pytorch's API since in the batch norm, if you scroll to the bottom it accepts two types of inputs:\n",
    "- `(N, C)`\n",
    "- `(N, C, L)`\n",
    "\n",
    "where `N` is the batch size, `C` here is the embedding dimension and `L` is the sequence length. Here we are considering `(N, L, c)` so `dim` would be `(0, 2)`."
   ]
  },
  {
   "cell_type": "markdown",
   "id": "c01db42c-75fd-446d-ade5-0ba5a029fb3d",
   "metadata": {},
   "source": [
    "# Retrain"
   ]
  },
  {
   "cell_type": "code",
   "execution_count": 76,
   "id": "3ef1108f-270a-4fc2-8aa2-183c24cba578",
   "metadata": {},
   "outputs": [
    {
     "name": "stdout",
     "output_type": "stream",
     "text": [
      "22397\n"
     ]
    }
   ],
   "source": [
    "torch.manual_seed(42);\n",
    "\n",
    "n_emb = 10        # Dimension of character embedding vectors\n",
    "n_hidden = 68    # Number of neurons in hidden layer\n",
    "\n",
    "model = Sequential([\n",
    "    Embedding(vocab_size, n_emb),\n",
    "    FlattenConsecutive(n=2), Linear(n_emb * 2, n_hidden, bias=False), BatchNorm1d(n_hidden), Tanh(),\n",
    "    FlattenConsecutive(n=2), Linear(n_hidden * 2, n_hidden, bias=False), BatchNorm1d(n_hidden), Tanh(),\n",
    "    FlattenConsecutive(n=2), Linear(n_hidden * 2, n_hidden, bias=False), BatchNorm1d(n_hidden), Tanh(),\n",
    "    Linear(n_hidden, vocab_size)\n",
    "])\n",
    "\n",
    "# Initialize parameters\n",
    "with torch.no_grad():\n",
    "    layers[-1].weight *= 0.1  # last layer make less confident\n",
    "\n",
    "parameters = model.parameters()\n",
    "print(sum(p.nelement() for p in parameters))\n",
    "for p in parameters:\n",
    "    p.requires_grad = True"
   ]
  },
  {
   "cell_type": "code",
   "execution_count": 77,
   "id": "836438d1-e0a7-438d-a0b4-78cf92c3239a",
   "metadata": {},
   "outputs": [
    {
     "name": "stdout",
     "output_type": "stream",
     "text": [
      "      0/ 200000: 3.6368\n",
      "  10000/ 200000: 2.2370\n",
      "  20000/ 200000: 2.1782\n",
      "  30000/ 200000: 2.1241\n",
      "  40000/ 200000: 2.0371\n",
      "  50000/ 200000: 2.3543\n",
      "  60000/ 200000: 1.9784\n",
      "  70000/ 200000: 1.8721\n",
      "  80000/ 200000: 1.8556\n",
      "  90000/ 200000: 1.8684\n",
      " 100000/ 200000: 1.6020\n",
      " 110000/ 200000: 2.3549\n",
      " 120000/ 200000: 2.4589\n",
      " 130000/ 200000: 1.9693\n",
      " 140000/ 200000: 2.2076\n",
      " 150000/ 200000: 1.6611\n",
      " 160000/ 200000: 1.9221\n",
      " 170000/ 200000: 2.0669\n",
      " 180000/ 200000: 1.9856\n",
      " 190000/ 200000: 1.7908\n"
     ]
    }
   ],
   "source": [
    "max_steps = 200000\n",
    "batch_size = 32\n",
    "lossi = []\n",
    "\n",
    "for i in range(max_steps):\n",
    "    # Minibatch\n",
    "    ix = torch.randint(0, Xtr.shape[0], (batch_size,))\n",
    "    Xb, Yb = Xtr[ix], Ytr[ix]\n",
    "\n",
    "    # Forward pass\n",
    "    logits = model(Xb)\n",
    "    loss = F.cross_entropy(logits, Yb)\n",
    "\n",
    "    # Zero gradients\n",
    "    for p in parameters:\n",
    "        p.grad = None\n",
    "\n",
    "    # Backward pass  \n",
    "    loss.backward()\n",
    "    \n",
    "    # Gradient descent\n",
    "    lr = 0.1 if i < 150000 else 0.01  # step learning rate decay\n",
    "    for p in parameters:\n",
    "        p.data += -lr * p.grad\n",
    "\n",
    "    # track statistics\n",
    "    if i % 10000 == 0:\n",
    "        print(f\"{i:7d}/{max_steps:7d}: {loss.item():.4f}\")\n",
    "    lossi.append(loss.log10().item())"
   ]
  },
  {
   "cell_type": "code",
   "execution_count": 78,
   "id": "336861cd-927a-4859-89fd-d33f84a302da",
   "metadata": {},
   "outputs": [
    {
     "name": "stdout",
     "output_type": "stream",
     "text": [
      "train 1.9123162031173706\n",
      "val 2.022148609161377\n"
     ]
    },
    {
     "data": {
      "image/png": "[encoded data removed]",
      "text/plain": [
       "<Figure size 640x480 with 1 Axes>"
      ]
     },
     "metadata": {},
     "output_type": "display_data"
    }
   ],
   "source": [
    "# One could use this `plt.plot(lossi)` but it would be ugly. Instead we plot the average over 1000 consecutive values\n",
    "plt.plot(torch.tensor(lossi).view(-1, 1000).mean(1));\n",
    "\n",
    "# put layers into evaluation mode (especially useful for batch norm)\n",
    "for layer in model.layers:\n",
    "    layer.training = False\n",
    "\n",
    "@torch.no_grad()  # disables gradient tracking\n",
    "def split_loss(split):\n",
    "    x, y = {\n",
    "        'train': (Xtr, Ytr),\n",
    "        'val': (Xdev, Ydev),\n",
    "        'test': (Xte, Yte)\n",
    "    }[split]\n",
    "    logits = model(x)\n",
    "    loss = F.cross_entropy(logits, y)\n",
    "    print(split, loss.item())\n",
    "\n",
    "split_loss('train')\n",
    "split_loss('val')"
   ]
  },
  {
   "cell_type": "markdown",
   "id": "42b83548-992f-48ee-ab9c-44f84d6bc5d5",
   "metadata": {},
   "source": [
    "# Larger Network"
   ]
  },
  {
   "cell_type": "code",
   "execution_count": 79,
   "id": "93be62fa-5d8f-4b20-9c74-e9ce250aa141",
   "metadata": {},
   "outputs": [
    {
     "name": "stdout",
     "output_type": "stream",
     "text": [
      "76579\n"
     ]
    }
   ],
   "source": [
    "torch.manual_seed(42);\n",
    "\n",
    "n_emb = 24        # Dimension of character embedding vectors\n",
    "n_hidden = 128    # Number of neurons in hidden layer\n",
    "\n",
    "model = Sequential([\n",
    "    Embedding(vocab_size, n_emb),\n",
    "    FlattenConsecutive(n=2), Linear(n_emb * 2, n_hidden, bias=False), BatchNorm1d(n_hidden), Tanh(),\n",
    "    FlattenConsecutive(n=2), Linear(n_hidden * 2, n_hidden, bias=False), BatchNorm1d(n_hidden), Tanh(),\n",
    "    FlattenConsecutive(n=2), Linear(n_hidden * 2, n_hidden, bias=False), BatchNorm1d(n_hidden), Tanh(),\n",
    "    Linear(n_hidden, vocab_size)\n",
    "])\n",
    "\n",
    "# Initialize parameters\n",
    "with torch.no_grad():\n",
    "    layers[-1].weight *= 0.1  # last layer make less confident\n",
    "\n",
    "parameters = model.parameters()\n",
    "print(sum(p.nelement() for p in parameters))\n",
    "for p in parameters:\n",
    "    p.requires_grad = True"
   ]
  },
  {
   "cell_type": "code",
   "execution_count": 84,
   "id": "d416fe72-b1c6-4601-80ec-a9a63ae816be",
   "metadata": {},
   "outputs": [
    {
     "name": "stdout",
     "output_type": "stream",
     "text": [
      "      0/ 200000: 1.6057\n",
      "  10000/ 200000: 1.6160\n",
      "  20000/ 200000: 1.7090\n",
      "  30000/ 200000: 1.5263\n",
      "  40000/ 200000: 1.9624\n",
      "  50000/ 200000: 1.7388\n",
      "  60000/ 200000: 1.6692\n",
      "  70000/ 200000: 1.8826\n",
      "  80000/ 200000: 1.5118\n",
      "  90000/ 200000: 1.6796\n",
      " 100000/ 200000: 2.1598\n",
      " 110000/ 200000: 2.0121\n",
      " 120000/ 200000: 1.3599\n",
      " 130000/ 200000: 1.7734\n",
      " 140000/ 200000: 1.7021\n",
      " 150000/ 200000: 1.7176\n",
      " 160000/ 200000: 2.0720\n",
      " 170000/ 200000: 1.7336\n",
      " 180000/ 200000: 1.8157\n",
      " 190000/ 200000: 1.7541\n"
     ]
    }
   ],
   "source": [
    "max_steps = 200000\n",
    "batch_size = 32\n",
    "lossi = []\n",
    "\n",
    "for i in range(max_steps):\n",
    "    # Minibatch\n",
    "    ix = torch.randint(0, Xtr.shape[0], (batch_size,))\n",
    "    Xb, Yb = Xtr[ix], Ytr[ix]\n",
    "\n",
    "    # Forward pass\n",
    "    logits = model(Xb)\n",
    "    loss = F.cross_entropy(logits, Yb)\n",
    "\n",
    "    # Zero gradients\n",
    "    for p in parameters:\n",
    "        p.grad = None\n",
    "\n",
    "    # Backward pass  \n",
    "    loss.backward()\n",
    "    \n",
    "    # Gradient descent\n",
    "    lr = 0.005 #0.1 if i < 150000 else 0.01  # step learning rate decay\n",
    "    for p in parameters:\n",
    "        p.data += -lr * p.grad\n",
    "\n",
    "    # track statistics\n",
    "    if i % 10000 == 0:\n",
    "        print(f\"{i:7d}/{max_steps:7d}: {loss.item():.4f}\")\n",
    "    lossi.append(loss.log10().item())"
   ]
  },
  {
   "cell_type": "code",
   "execution_count": 85,
   "id": "36105e70-deb6-4c17-9844-5538a1bc77af",
   "metadata": {},
   "outputs": [
    {
     "name": "stdout",
     "output_type": "stream",
     "text": [
      "train 1.7270828485488892\n",
      "val 2.014617443084717\n"
     ]
    },
    {
     "data": {
      "image/png": "[encoded data removed]",
      "text/plain": [
       "<Figure size 640x480 with 1 Axes>"
      ]
     },
     "metadata": {},
     "output_type": "display_data"
    }
   ],
   "source": [
    "# One could use this `plt.plot(lossi)` but it would be ugly. Instead we plot the average over 1000 consecutive values\n",
    "plt.plot(torch.tensor(lossi).view(-1, 1000).mean(1));\n",
    "\n",
    "# put layers into evaluation mode (especially useful for batch norm)\n",
    "for layer in model.layers:\n",
    "    layer.training = False\n",
    "\n",
    "@torch.no_grad()  # disables gradient tracking\n",
    "def split_loss(split):\n",
    "    x, y = {\n",
    "        'train': (Xtr, Ytr),\n",
    "        'val': (Xdev, Ydev),\n",
    "        'test': (Xte, Yte)\n",
    "    }[split]\n",
    "    logits = model(x)\n",
    "    loss = F.cross_entropy(logits, y)\n",
    "    print(split, loss.item())\n",
    "\n",
    "split_loss('train')\n",
    "split_loss('val')"
   ]
  },
  {
   "cell_type": "code",
   "execution_count": 86,
   "id": "f90b4930-6e4e-403f-a7df-e5af4f4c7304",
   "metadata": {},
   "outputs": [
    {
     "name": "stdout",
     "output_type": "stream",
     "text": [
      "saar.\n",
      "milia.\n",
      "donan.\n",
      "reyanna.\n",
      "abhia.\n",
      "jaryah.\n",
      "lamayah.\n",
      "alaiah.\n",
      "kimma.\n",
      "marik.\n",
      "avyansh.\n",
      "jevon.\n",
      "kaitlay.\n",
      "aurious.\n",
      "lunalin.\n",
      "eazleigh.\n",
      "hellent.\n",
      "saraia.\n",
      "kaseed.\n",
      "zakyi.\n"
     ]
    }
   ],
   "source": [
    "for _ in range(20):\n",
    "\n",
    "    out = []\n",
    "    context = [0] * block_size   # initialize with all dots\n",
    "    while True:\n",
    "        logits = model(torch.tensor([context]))\n",
    "        probs = F.softmax(logits, dim=1)\n",
    "        ix = torch.multinomial(probs, num_samples=1, replacement=True).item()\n",
    "        # shift context window and track the samples\n",
    "        context = context[1:] + [ix]\n",
    "        out.append(ix)\n",
    "        if ix == 0:\n",
    "            break\n",
    "\n",
    "    print(''.join(int_to_str[i] for i in out))"
   ]
  },
  {
   "cell_type": "code",
   "execution_count": null,
   "id": "62bc7de8-e132-41e8-a0df-ca361abe199d",
   "metadata": {},
   "outputs": [],
   "source": []
  }
 ],
 "metadata": {
  "kernelspec": {
   "display_name": "Python 3 (ipykernel)",
   "language": "python",
   "name": "python3"
  },
  "language_info": {
   "codemirror_mode": {
    "name": "ipython",
    "version": 3
   },
   "file_extension": ".py",
   "mimetype": "text/x-python",
   "name": "python",
   "nbconvert_exporter": "python",
   "pygments_lexer": "ipython3",
   "version": "3.12.3"
  }
 },
 "nbformat": 4,
 "nbformat_minor": 5
}
