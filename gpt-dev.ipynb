{
 "cells": [
  {
   "cell_type": "markdown",
   "id": "fd01aeb0-31cd-43e6-b25b-327a62842d70",
   "metadata": {},
   "source": [
    "# Read Tinyshakespeare data"
   ]
  },
  {
   "cell_type": "code",
   "execution_count": 7,
   "id": "762bf8c1-c30d-4874-8b31-baa93557ddfe",
   "metadata": {},
   "outputs": [
    {
     "name": "stdout",
     "output_type": "stream",
     "text": [
      "--2024-05-22 18:13:32--  https://raw.githubusercontent.com/karpathy/char-rnn/master/data/tinyshakespeare/input.txt\n",
      "Resolving raw.githubusercontent.com (raw.githubusercontent.com)... 185.199.108.133, 185.199.111.133, 185.199.110.133, ...\n",
      "Connecting to raw.githubusercontent.com (raw.githubusercontent.com)|185.199.108.133|:443... connected.\n",
      "HTTP request sent, awaiting response... 200 OK\n",
      "Length: 1115394 (1.1M) [text/plain]\n",
      "Saving to: 'input.txt'\n",
      "\n",
      "input.txt           100%[===================>]   1.06M  --.-KB/s    in 0.08s   \n",
      "\n",
      "2024-05-22 18:13:32 (13.0 MB/s) - 'input.txt' saved [1115394/1115394]\n",
      "\n"
     ]
    }
   ],
   "source": [
    "# If you are using a Conda environment generated from scratch, you will need to run\n",
    "# `conda install jupyter` and `conda install wget`\n",
    "!wget https://raw.githubusercontent.com/karpathy/char-rnn/master/data/tinyshakespeare/input.txt\n",
    "\n",
    "# Read the text\n",
    "with open('input.txt', 'r', encoding='utf-8') as f:\n",
    "    text = f.read()"
   ]
  },
  {
   "cell_type": "markdown",
   "id": "9715d269-da51-4d56-8647-ed2f120c6d55",
   "metadata": {},
   "source": [
    "# Create vocabulary"
   ]
  },
  {
   "cell_type": "code",
   "execution_count": 12,
   "id": "df48cd55-729b-49cf-944b-81f75b24159e",
   "metadata": {},
   "outputs": [
    {
     "name": "stdout",
     "output_type": "stream",
     "text": [
      "\n",
      " !$&',-.3:;?ABCDEFGHIJKLMNOPQRSTUVWXYZabcdefghijklmnopqrstuvwxyz\n",
      "Vocabulary size:  65\n"
     ]
    }
   ],
   "source": [
    "# Grab all unique characters in the text, sorted, and compute vocabulary size\n",
    "chars = sorted(list(set(text)))\n",
    "vocab_size = len(chars)\n",
    "print(''.join(chars))\n",
    "print(\"Vocabulary size: \", vocab_size)"
   ]
  },
  {
   "cell_type": "markdown",
   "id": "06a0852d-f5f7-4c3e-899e-79fd9f839298",
   "metadata": {},
   "source": [
    "# Encoder and Decoder for the Vocabulary"
   ]
  },
  {
   "cell_type": "code",
   "execution_count": 13,
   "id": "c5af22e0-a481-4be6-aab5-0d517b8ca533",
   "metadata": {},
   "outputs": [],
   "source": [
    "# Dictionaries mapping characters to their index and vice versa\n",
    "str_to_int = {character: integer for integer, character in enumerate(chars)}\n",
    "int_to_str = {integer: character for integer, character in enumerate(chars)}"
   ]
  },
  {
   "cell_type": "code",
   "execution_count": 16,
   "id": "622016bb-0387-470c-a04a-0e3f9aec51dc",
   "metadata": {},
   "outputs": [],
   "source": [
    "# Encoder and Decoder functions\n",
    "encode = lambda string: [str_to_int[character] for character in string]  # string --> list(int)\n",
    "decode = lambda intlist: ''.join([int_to_str[integer] for integer in intlist])  # list(int) --> string"
   ]
  },
  {
   "cell_type": "code",
   "execution_count": 17,
   "id": "15a8c281-dff1-4182-875d-eba5363b5d5d",
   "metadata": {},
   "outputs": [
    {
     "name": "stdout",
     "output_type": "stream",
     "text": [
      "[20, 43, 50, 50, 53, 6, 1, 35, 53, 56, 50, 42, 2]\n",
      "Hello, World!\n"
     ]
    }
   ],
   "source": [
    "# Test the encoder and decoder functions\n",
    "text = \"Hello, World!\"\n",
    "print(encode(text))\n",
    "print(decode(encode(text)))"
   ]
  },
  {
   "cell_type": "code",
   "execution_count": null,
   "id": "11b98adc-38b5-4a85-9c9d-d2ea28479a8c",
   "metadata": {},
   "outputs": [],
   "source": []
  }
 ],
 "metadata": {
  "kernelspec": {
   "display_name": "Python 3 (ipykernel)",
   "language": "python",
   "name": "python3"
  },
  "language_info": {
   "codemirror_mode": {
    "name": "ipython",
    "version": 3
   },
   "file_extension": ".py",
   "mimetype": "text/x-python",
   "name": "python",
   "nbconvert_exporter": "python",
   "pygments_lexer": "ipython3",
   "version": "3.12.3"
  }
 },
 "nbformat": 4,
 "nbformat_minor": 5
}
