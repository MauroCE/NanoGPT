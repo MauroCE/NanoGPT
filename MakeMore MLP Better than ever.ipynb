{
 "cells": [
  {
   "cell_type": "markdown",
   "id": "6e846a5e-cb40-4630-bf22-299cf87a0915",
   "metadata": {},
   "source": [
    "TIPS:\n",
    "\n",
    "- We initialize the bias `b2` to zero, rather than from a normal distribution.\n",
    "- We initialize the weights `W2` to have smaller variance than `1.0` (to avoid extreme values)"
   ]
  },
  {
   "cell_type": "code",
   "execution_count": 54,
   "id": "11c848b9-fe99-45d4-a1a7-f67e3ed661a5",
   "metadata": {},
   "outputs": [],
   "source": [
    "import torch\n",
    "import torch.nn.functional as F\n",
    "import matplotlib.pyplot as plt\n",
    "%matplotlib inline "
   ]
  },
  {
   "cell_type": "code",
   "execution_count": 55,
   "id": "e4d91f7f-ad24-4841-b025-02c3933a1d03",
   "metadata": {},
   "outputs": [],
   "source": [
    "# Read data\n",
    "names = open(\"names.txt\", \"r\").read().splitlines()\n",
    "\n",
    "# Build vocabulary\n",
    "characters = sorted(list(set(''.join(names))))\n",
    "str_to_int = {s:i+1 for i, s in enumerate(characters)}\n",
    "str_to_int['.'] = 0.0\n",
    "int_to_str = {i:s for s, i in str_to_int.items()}\n",
    "vocab_size = len(int_to_str)"
   ]
  },
  {
   "cell_type": "code",
   "execution_count": 56,
   "id": "a7d8eb9e-1775-43a7-ac7a-7f0df9a20a93",
   "metadata": {},
   "outputs": [],
   "source": [
    "block_size = 3  # context size\n",
    "\n",
    "def build_dataset(names):\n",
    "    X, Y = [], []\n",
    "    for name in names:\n",
    "        context = [0] * block_size\n",
    "        for character in name + \".\":\n",
    "            ix = str_to_int[character]\n",
    "            X.append(context)\n",
    "            Y.append(ix)\n",
    "            context = context[1:] + [ix]\n",
    "    X = torch.tensor(X)\n",
    "    Y = torch.tensor(Y, dtype=torch.long)\n",
    "    print(X.shape, Y.shape)\n",
    "    return X, Y"
   ]
  },
  {
   "cell_type": "code",
   "execution_count": 57,
   "id": "66a3d2b9-70b5-4667-898a-faa3fee88af2",
   "metadata": {},
   "outputs": [
    {
     "name": "stdout",
     "output_type": "stream",
     "text": [
      "torch.Size([182625, 3]) torch.Size([182625])\n",
      "torch.Size([22655, 3]) torch.Size([22655])\n",
      "torch.Size([22866, 3]) torch.Size([22866])\n"
     ]
    }
   ],
   "source": [
    "import random \n",
    "random.seed(42)\n",
    "random.shuffle(names)\n",
    "n1 = int(0.8*len(names))\n",
    "n2 = int(0.9*len(names))\n",
    "\n",
    "Xtr, Ytr = build_dataset(names[:n1])\n",
    "Xdev, Ydev = build_dataset(names[n1:n2])\n",
    "Xte, Yte = build_dataset(names[n2:])"
   ]
  },
  {
   "cell_type": "code",
   "execution_count": 58,
   "id": "ff5b83b4-2c4b-45aa-90d7-ce6177987468",
   "metadata": {},
   "outputs": [
    {
     "name": "stdout",
     "output_type": "stream",
     "text": [
      "Total parameters:  11897\n"
     ]
    }
   ],
   "source": [
    "# MLP\n",
    "n_emb = 10\n",
    "n_hidden = 200\n",
    "\n",
    "g = torch.Generator().manual_seed(2147483647)\n",
    "C = torch.randn((vocab_size, n_emb),           generator=g)  # embedding\n",
    "W1 = torch.randn((n_emb*block_size, n_hidden), generator=g) * (5/3) / (n_emb*block_size)**0.5\n",
    "b1 = torch.randn(n_hidden,                     generator=g) * 0.01\n",
    "W2 = torch.randn((n_hidden, vocab_size),       generator=g) * 0.01\n",
    "b2 = torch.randn(vocab_size,                   generator=g) * 0\n",
    "\n",
    "parameters = [C, W1, b1, W2, b2]  # All parameters of our network\n",
    "print(\"Total parameters: \", sum(p.nelement() for p in parameters))\n",
    "\n",
    "# Allow gradients\n",
    "for p in parameters:\n",
    "    p.requires_grad = True"
   ]
  },
  {
   "cell_type": "code",
   "execution_count": 59,
   "id": "c6683a06-3acd-42fd-8d3f-87d0ad057a60",
   "metadata": {},
   "outputs": [
    {
     "name": "stdout",
     "output_type": "stream",
     "text": [
      "      0/ 200000: 3.3179\n",
      "  10000/ 200000: 2.1910\n",
      "  20000/ 200000: 2.3270\n",
      "  30000/ 200000: 2.5396\n",
      "  40000/ 200000: 1.9468\n",
      "  50000/ 200000: 2.3331\n",
      "  60000/ 200000: 2.3852\n",
      "  70000/ 200000: 2.1173\n",
      "  80000/ 200000: 2.3159\n",
      "  90000/ 200000: 2.2010\n",
      " 100000/ 200000: 1.8591\n",
      " 110000/ 200000: 2.0881\n",
      " 120000/ 200000: 1.9389\n",
      " 130000/ 200000: 2.3913\n",
      " 140000/ 200000: 2.0949\n",
      " 150000/ 200000: 2.1458\n",
      " 160000/ 200000: 1.7824\n",
      " 170000/ 200000: 1.7249\n",
      " 180000/ 200000: 1.9752\n",
      " 190000/ 200000: 1.8614\n"
     ]
    }
   ],
   "source": [
    "max_steps = 200000\n",
    "batch_size = 32\n",
    "lossi = []\n",
    "\n",
    "for i in range(max_steps):\n",
    "    # Minibatch\n",
    "    ix = torch.randint(0, Xtr.shape[0], (batch_size,), generator=g)\n",
    "    Xb, Yb = Xtr[ix], Ytr[ix]\n",
    "\n",
    "    # Forward pass\n",
    "    emb = C[Xb]   # embedding\n",
    "    emb_cat = emb.view(emb.shape[0], -1)\n",
    "    hpreact = emb_cat @ W1 + b1\n",
    "    h = torch.tanh(hpreact)\n",
    "    logits = h @ W2 + b2\n",
    "    loss = F.cross_entropy(logits, Yb)\n",
    "    \n",
    "    # Zero gradients\n",
    "    for p in parameters:\n",
    "        p.grad = None\n",
    "\n",
    "    # Backward pass  \n",
    "    loss.backward()\n",
    "    \n",
    "    # Gradient descent\n",
    "    lr = 0.1 if i < 100000 else 0.01  # step learning rate decay\n",
    "    for p in parameters:\n",
    "        p.data += -lr * p.grad\n",
    "\n",
    "    # track statistics\n",
    "    if i % 10000 == 0:\n",
    "        print(f\"{i:7d}/{max_steps:7d}: {loss.item():.4f}\")\n",
    "    lossi.append(loss.log10().item())"
   ]
  },
  {
   "cell_type": "code",
   "execution_count": 51,
   "id": "95653b97-6787-49a9-9cc5-b51c81d52df5",
   "metadata": {},
   "outputs": [
    {
     "data": {
      "text/plain": [
       "[<matplotlib.lines.Line2D at 0x158568440>]"
      ]
     },
     "execution_count": 51,
     "metadata": {},
     "output_type": "execute_result"
    },
    {
     "data": {
      "image/png": "[encoded data removed]",
      "text/plain": [
       "<Figure size 640x480 with 1 Axes>"
      ]
     },
     "metadata": {},
     "output_type": "display_data"
    }
   ],
   "source": [
    "plt.plot(lossi)"
   ]
  },
  {
   "cell_type": "code",
   "execution_count": 52,
   "id": "41931ae1-c4ee-4c18-84c0-d16bea139056",
   "metadata": {},
   "outputs": [
    {
     "name": "stdout",
     "output_type": "stream",
     "text": [
      "train 2.0355966091156006\n",
      "val 2.1026785373687744\n"
     ]
    }
   ],
   "source": [
    "@torch.no_grad()  # disables gradient tracking\n",
    "def split_loss(split):\n",
    "    x, y = {\n",
    "        'train': (Xtr, Ytr),\n",
    "        'val': (Xdev, Ydev),\n",
    "        'test': (Xte, Yte)\n",
    "    }[split]\n",
    "    emb = C[x]\n",
    "    embcat = emb.view(emb.shape[0], -1)\n",
    "    h = torch.tanh(embcat @ W1 + b1)\n",
    "    logits = h @ W2 + b2\n",
    "    loss = F.cross_entropy(logits, y)\n",
    "    print(split, loss.item())\n",
    "\n",
    "split_loss('train')\n",
    "split_loss('val')"
   ]
  },
  {
   "cell_type": "code",
   "execution_count": 53,
   "id": "d39fc3e4-5d1d-40b4-b996-6d7d6d35e389",
   "metadata": {},
   "outputs": [
    {
     "name": "stdout",
     "output_type": "stream",
     "text": [
      "carmahzauri.\n",
      "jai.\n",
      "kimri.\n",
      "reh.\n",
      "casparsha.\n",
      "jazhith.\n",
      "deliah.\n",
      "jareei.\n",
      "nellara.\n",
      "chaily.\n",
      "kaleigh.\n",
      "ham.\n",
      "jorn.\n",
      "quint.\n",
      "salin.\n",
      "alianni.\n",
      "waythoniearyn.\n",
      "kai.\n",
      "euliyuan.\n",
      "eddeli.\n"
     ]
    }
   ],
   "source": [
    "g = torch.Generator().manual_seed(2147483647 + 10)\n",
    "\n",
    "for _ in range(20):\n",
    "\n",
    "    out = []\n",
    "    context = [0] * block_size   # initialize with all dots\n",
    "    while True:\n",
    "        emb = C[torch.tensor([context])]  # (1, block_size, d)\n",
    "        h = torch.tanh(emb.view(1, -1) @ W1 + b1)\n",
    "        logits = h @ W2 + b2\n",
    "        probs = F.softmax(logits, dim=1)\n",
    "        ix = torch.multinomial(probs, num_samples=1, replacement=True, generator=g).item()\n",
    "        context = context[1:] + [ix]\n",
    "        out.append(ix)\n",
    "        if ix == 0:\n",
    "            break\n",
    "\n",
    "    print(''.join(int_to_str[i] for i in out))"
   ]
  },
  {
   "cell_type": "markdown",
   "id": "978d910a-f583-4e31-a9a1-e44183292e78",
   "metadata": {},
   "source": [
    "# Advice\n",
    "If we check `h` as a histogram after the first iteration, we see that it has most of its values one side or the other (either -1 or 1)."
   ]
  },
  {
   "cell_type": "code",
   "execution_count": 41,
   "id": "395235e7-cb11-410f-9608-73a9a831917d",
   "metadata": {},
   "outputs": [
    {
     "name": "stdout",
     "output_type": "stream",
     "text": [
      "torch.Size([182437, 3]) torch.Size([182437])\n",
      "torch.Size([22781, 3]) torch.Size([22781])\n",
      "torch.Size([22928, 3]) torch.Size([22928])\n",
      "Total parameters:  11897\n",
      "      0/ 200000: 3.2954\n"
     ]
    }
   ],
   "source": [
    "import random \n",
    "random.seed(42)\n",
    "random.shuffle(names)\n",
    "n1 = int(0.8*len(names))\n",
    "n2 = int(0.9*len(names))\n",
    "\n",
    "Xtr, Ytr = build_dataset(names[:n1])\n",
    "Xdev, Ydev = build_dataset(names[n1:n2])\n",
    "Xte, Yte = build_dataset(names[n2:])\n",
    "\n",
    "# MLP\n",
    "n_emb = 10\n",
    "n_hidden = 200\n",
    "\n",
    "g = torch.Generator().manual_seed(2147483647)\n",
    "C = torch.randn((vocab_size, n_emb),           generator=g)  # embedding\n",
    "W1 = torch.randn((n_emb*block_size, n_hidden), generator=g) * 0.1\n",
    "b1 = torch.randn(n_hidden,                     generator=g) * 0.01 # not set to zero, to allow some diversity\n",
    "W2 = torch.randn((n_hidden, vocab_size),       generator=g) * 0.01\n",
    "b2 = torch.randn(vocab_size,                   generator=g) * 0\n",
    "\n",
    "parameters = [C, W1, b1, W2, b2]  # All parameters of our network\n",
    "print(\"Total parameters: \", sum(p.nelement() for p in parameters))\n",
    "\n",
    "# Allow gradients\n",
    "for p in parameters:\n",
    "    p.requires_grad = True\n",
    "\n",
    "max_steps = 200000\n",
    "batch_size = 32\n",
    "lossi = []\n",
    "\n",
    "for i in range(max_steps):\n",
    "    # Minibatch\n",
    "    ix = torch.randint(0, Xtr.shape[0], (batch_size,), generator=g)\n",
    "    Xb, Yb = Xtr[ix], Ytr[ix]\n",
    "\n",
    "    # Forward pass\n",
    "    emb = C[Xb]   # embedding\n",
    "    emb_cat = emb.view(emb.shape[0], -1)\n",
    "    hpreact = emb_cat @ W1 + b1\n",
    "    h = torch.tanh(hpreact)\n",
    "    logits = h @ W2 + b2\n",
    "    loss = F.cross_entropy(logits, Yb)\n",
    "    \n",
    "    # Zero gradients\n",
    "    for p in parameters:\n",
    "        p.grad = None\n",
    "\n",
    "    # Backward pass  \n",
    "    loss.backward()\n",
    "    \n",
    "    # Gradient descent\n",
    "    lr = 0.1 if i < 100000 else 0.01  # step learning rate decay\n",
    "    for p in parameters:\n",
    "        p.data += -lr * p.grad\n",
    "\n",
    "    # track statistics\n",
    "    if i % 10000 == 0:\n",
    "        print(f\"{i:7d}/{max_steps:7d}: {loss.item():.4f}\")\n",
    "    lossi.append(loss.log10().item())\n",
    "\n",
    "    break"
   ]
  },
  {
   "cell_type": "code",
   "execution_count": 42,
   "id": "5a939a6d-69b9-4e38-a9f2-09abf01dca99",
   "metadata": {},
   "outputs": [
    {
     "data": {
      "image/png": "[encoded data removed]",
      "text/plain": [
       "<Figure size 640x480 with 1 Axes>"
      ]
     },
     "metadata": {},
     "output_type": "display_data"
    }
   ],
   "source": [
    "plt.hist(h.view(-1).tolist(), bins=50);"
   ]
  },
  {
   "cell_type": "markdown",
   "id": "9bb019b7-082f-477d-bdf3-06a5a1653bac",
   "metadata": {},
   "source": [
    "This happens because the pre-activations values are very broad"
   ]
  },
  {
   "cell_type": "code",
   "execution_count": 43,
   "id": "368f51c8-33c4-4b76-8596-eb70a5701224",
   "metadata": {},
   "outputs": [
    {
     "data": {
      "image/png": "[encoded data removed]",
      "text/plain": [
       "<Figure size 640x480 with 1 Axes>"
      ]
     },
     "metadata": {},
     "output_type": "display_data"
    }
   ],
   "source": [
    "plt.hist(hpreact.view(-1).tolist(), bins=50);"
   ]
  },
  {
   "cell_type": "markdown",
   "id": "cbcd2545-f520-4a34-ae6a-8b56b74a83c8",
   "metadata": {},
   "source": [
    "This is because the gradient of `tanh` is `1 - tanh^2` and therefore when `tanh` value is close to `\\pm 1` we basically get zero gradient."
   ]
  },
  {
   "cell_type": "markdown",
   "id": "7563acbb-49c0-4423-bf65-b506dd7db45d",
   "metadata": {},
   "source": [
    "Let's see how often is the activation larger than 0.99 in absolute value"
   ]
  },
  {
   "cell_type": "code",
   "execution_count": 44,
   "id": "f9e64a43-6da4-4040-8d77-d3d3bfc00fd1",
   "metadata": {},
   "outputs": [
    {
     "data": {
      "text/plain": [
       "<matplotlib.image.AxesImage at 0x1489b4b60>"
      ]
     },
     "execution_count": 44,
     "metadata": {},
     "output_type": "execute_result"
    },
    {
     "data": {
      "image/png": "[encoded data removed]",
      "text/plain": [
       "<Figure size 2000x1000 with 1 Axes>"
      ]
     },
     "metadata": {},
     "output_type": "display_data"
    }
   ],
   "source": [
    "plt.figure(figsize=(20, 10))\n",
    "plt.imshow(h.abs() > 0.99, cmap='gray', interpolation='nearest')"
   ]
  },
  {
   "cell_type": "markdown",
   "id": "41646bc6-db94-485e-8638-24978ff520f8",
   "metadata": {},
   "source": [
    "# Further Advice"
   ]
  },
  {
   "cell_type": "markdown",
   "id": "ca354fa9-e07b-4c75-ac90-2e5be70e634d",
   "metadata": {},
   "source": [
    "Generally, we want the variance of `x @ w` to be roughly one. Turns out, that one can do that by dividing `x @ w` by the square root of the number of inputs. [This](https://arxiv.org/abs/1502.01852) paper talks about various strategies.\n",
    "\n",
    "The idea is that RELU throws away about half of the distribution (the negative part) and therefore one should divide by $\\sqrt{2 / n_l}$ rather than $\\sqrt{n_l}$ to compensate for that. Often one calls $n_l$ the `fan in`.\n",
    "\n",
    "All of this is implemented in PyTorch and it is called `kaiming_normal` precisely `torch.nn.init.kaiming_normal_()`.]"
   ]
  },
  {
   "cell_type": "markdown",
   "id": "fff58f4f-f957-4d66-9e21-65a3d2188149",
   "metadata": {},
   "source": [
    "HOWEVER, nowadays these things matter a bit less thanks to some innovations:\n",
    "\n",
    "1. Residual connections\n",
    "2. Normalization layers (Batch, layer, group etc)\n",
    "3. Better optimizers RMSprop and Adam\n",
    "\n",
    "In practice, Andrey initializes the weights and normalizes them the by square root of the fan in."
   ]
  },
  {
   "cell_type": "markdown",
   "id": "1f4dc1b7-0bbf-43da-bc39-4545b5b0223a",
   "metadata": {},
   "source": [
    "# Batch Normalization\n",
    "Allows to train deep neural networks more reliably, introduced in [this](https://arxiv.org/abs/1502.03167) paper. This is motivated by the same problems that motivated Kaiming initialization: we would like the input to the activation function to be roughly $\\mathcal{N}(0, 1)$. Batch normalization simply normalizes the input to the activation to achieve that, and since it does so in a fully-differentiable manner - it works!\n",
    "\n",
    "As the name says: we **take the mean along all the elements in the batch**\n",
    "\n",
    "> We want the pre-activations to be roughly Gaussians **at initialization** but we don't want to these to be forced to be so, all the time. We would like the NN to be able to move it around, make it more or less diffuse, make some `tanh` to be more trigger-happy, or less trigger happy. If our batch is $\\mathcal{B} = \\{x_1, \\ldots, x_m\\}$ then we do this:\n",
    "> 1. Compute the mini-batch mean\n",
    "$$\n",
    "\\mu_{\\mathcal{B}} = \\frac{1}{m}\\sum_{i=1}^m x_i\n",
    "$$\n",
    "> 2. Compute the mini-batch variance\n",
    "$$\n",
    "\\sigma_{\\mathcal{B}}^2 = \\frac{1}{m}\\sum_{i=1}^m (x_i - \\mu_{\\mathcal{B}})^2\n",
    "$$\n",
    "> 3. Normalize\n",
    "$$\n",
    "\\hat{x}_i = \\frac{x_i - \\mu_{\\mathcal{B}}}{\\sqrt{\\sigma_{\\mathcal{B}^2 + \\epsilon}}}\n",
    "$$\n",
    "> 5. Scale and shift\n",
    "$$\n",
    "y_i = \\gamma \\hat{x}_i + \\beta = \\text{BN}_{\\gamma, \\beta}(x_i)\n",
    "$$\n",
    "Often the \"scaling\" $\\gamma$ is called **gain** and the offset $\\beta$ is called **bias**.\n",
    "\n",
    "IMPORTANCE: If we don't use Batch Normalization, all the training examples in the batch are processed independently. However, once we do use Batch-Normalization, we are coupling these examples in the minibatch mathematically. The side-effect of this is that it acts a a regularizer by adding some jittering, which is good. But the downside is that mathematically, this is much more difficult to analyze."
   ]
  },
  {
   "cell_type": "code",
   "execution_count": 71,
   "id": "af6651bf-c9a0-48b0-b184-5a23cb329550",
   "metadata": {},
   "outputs": [
    {
     "name": "stdout",
     "output_type": "stream",
     "text": [
      "Total parameters:  12297\n"
     ]
    }
   ],
   "source": [
    "# MLP\n",
    "n_emb = 10\n",
    "n_hidden = 200\n",
    "\n",
    "g = torch.Generator().manual_seed(2147483647)\n",
    "C = torch.randn((vocab_size, n_emb),           generator=g)  # embedding\n",
    "W1 = torch.randn((n_emb*block_size, n_hidden), generator=g) * (5/3) / (n_emb*block_size)**0.5\n",
    "b1 = torch.randn(n_hidden,                     generator=g) * 0.01\n",
    "W2 = torch.randn((n_hidden, vocab_size),       generator=g) * 0.01\n",
    "b2 = torch.randn(vocab_size,                   generator=g) * 0\n",
    "\n",
    "# Batch normalization\n",
    "bngain = torch.ones((1, n_hidden))\n",
    "bnbias = torch.zeros((1, n_hidden))\n",
    "\n",
    "parameters = [C, W1, b1, W2, b2, bngain, bnbias]  # All parameters of our network\n",
    "print(\"Total parameters: \", sum(p.nelement() for p in parameters))\n",
    "\n",
    "# Allow gradients\n",
    "for p in parameters:\n",
    "    p.requires_grad = True"
   ]
  },
  {
   "cell_type": "code",
   "execution_count": 72,
   "id": "9a583228-a913-444a-a0b1-bee97b1c6b06",
   "metadata": {},
   "outputs": [
    {
     "name": "stdout",
     "output_type": "stream",
     "text": [
      "      0/ 200000: 3.3147\n",
      "  10000/ 200000: 2.1984\n",
      "  20000/ 200000: 2.3375\n",
      "  30000/ 200000: 2.4359\n",
      "  40000/ 200000: 2.0119\n",
      "  50000/ 200000: 2.2595\n",
      "  60000/ 200000: 2.4775\n",
      "  70000/ 200000: 2.1020\n",
      "  80000/ 200000: 2.2788\n",
      "  90000/ 200000: 2.1862\n",
      " 100000/ 200000: 1.9474\n",
      " 110000/ 200000: 2.3010\n",
      " 120000/ 200000: 1.9837\n",
      " 130000/ 200000: 2.4523\n",
      " 140000/ 200000: 2.3839\n",
      " 150000/ 200000: 2.1987\n",
      " 160000/ 200000: 1.9733\n",
      " 170000/ 200000: 1.8668\n",
      " 180000/ 200000: 1.9973\n",
      " 190000/ 200000: 1.8347\n"
     ]
    }
   ],
   "source": [
    "max_steps = 200000\n",
    "batch_size = 32\n",
    "lossi = []\n",
    "\n",
    "for i in range(max_steps):\n",
    "    # Minibatch\n",
    "    ix = torch.randint(0, Xtr.shape[0], (batch_size,), generator=g)\n",
    "    Xb, Yb = Xtr[ix], Ytr[ix]\n",
    "\n",
    "    # Forward pass\n",
    "    emb = C[Xb]   # embedding\n",
    "    emb_cat = emb.view(emb.shape[0], -1)\n",
    "    hpreact = emb_cat @ W1 + b1\n",
    "    hpreact = hpreact - hpreact.mean(dim=0, keepdims=True)\n",
    "    hpreact = hpreact / hpreact.std(dim=0, keepdims=True)\n",
    "    hpreact = bngain*hpreact + bnbias\n",
    "    h = torch.tanh(hpreact)\n",
    "    logits = h @ W2 + b2\n",
    "    loss = F.cross_entropy(logits, Yb)\n",
    "    \n",
    "    # Zero gradients\n",
    "    for p in parameters:\n",
    "        p.grad = None\n",
    "\n",
    "    # Backward pass  \n",
    "    loss.backward()\n",
    "    \n",
    "    # Gradient descent\n",
    "    lr = 0.1 if i < 100000 else 0.01  # step learning rate decay\n",
    "    for p in parameters:\n",
    "        p.data += -lr * p.grad\n",
    "\n",
    "    # track statistics\n",
    "    if i % 10000 == 0:\n",
    "        print(f\"{i:7d}/{max_steps:7d}: {loss.item():.4f}\")\n",
    "    lossi.append(loss.log10().item())"
   ]
  },
  {
   "cell_type": "markdown",
   "id": "ca8970e5-b6e4-4a0d-b046-bc164b63660b",
   "metadata": {},
   "source": [
    "Imagine that, after training we wish to feed a single datapoint through the network. How can we do that if we have batch normalization? The authors of the paper suggest doing something called **calibrating the batch norm statistics**."
   ]
  },
  {
   "cell_type": "code",
   "execution_count": 73,
   "id": "b3660741-91e9-4572-a0e7-923bda3a0d4a",
   "metadata": {},
   "outputs": [],
   "source": [
    "# Calibrate BN at the end of training\n",
    "with torch.no_grad():\n",
    "    # Pass the tranining set through\n",
    "    emb = C[Xtr]\n",
    "    embcat = emb.view(emb.shape[0], -1)\n",
    "    hpreact = embcat @ W1 + b1\n",
    "    # Measure the mean/std over the entire training set\n",
    "    bnmean = hpreact.mean(0, keepdims=True)\n",
    "    bnstd = hpreact.std(0, keepdims=True)"
   ]
  },
  {
   "cell_type": "markdown",
   "id": "a488feb3-13e8-41e1-b989-6979262da814",
   "metadata": {},
   "source": [
    "Basically we compute $\\gamma$ and $\\beta$ from feeding the entire training set through the network, and then use this at test/production time."
   ]
  },
  {
   "cell_type": "code",
   "execution_count": 74,
   "id": "f9a7f8e4-fa35-464f-9297-07b6c71bde92",
   "metadata": {},
   "outputs": [
    {
     "name": "stdout",
     "output_type": "stream",
     "text": [
      "train 2.0668270587921143\n",
      "val 2.1049270629882812\n"
     ]
    }
   ],
   "source": [
    "@torch.no_grad()  # disables gradient tracking\n",
    "def split_loss(split):\n",
    "    x, y = {\n",
    "        'train': (Xtr, Ytr),\n",
    "        'val': (Xdev, Ydev),\n",
    "        'test': (Xte, Yte)\n",
    "    }[split]\n",
    "    emb = C[x]\n",
    "    embcat = emb.view(emb.shape[0], -1)\n",
    "    hpreact = embcat @ W1 + b1\n",
    "    # bngain, bnbias: learned\n",
    "    # bnmean, bnstd: computed over training set\n",
    "    hpreact = bngain * ((hpreact - bnmean) / bnstd) + bnbias\n",
    "    h = torch.tanh(hpreact)\n",
    "    logits = h @ W2 + b2\n",
    "    loss = F.cross_entropy(logits, y)\n",
    "    print(split, loss.item())\n",
    "\n",
    "split_loss('train')\n",
    "split_loss('val')"
   ]
  },
  {
   "cell_type": "markdown",
   "id": "6c1c486f-27d5-47d3-8a45-6ac8269ec6d1",
   "metadata": {},
   "source": [
    "Actually, it turns out one can compute `bnmean` and `bnstd` in a running fashion, during training of the Neural Network."
   ]
  },
  {
   "cell_type": "code",
   "execution_count": 76,
   "id": "a11828f9-34b1-4bcf-b762-2b26ebced1cc",
   "metadata": {},
   "outputs": [
    {
     "name": "stdout",
     "output_type": "stream",
     "text": [
      "Total parameters:  12297\n",
      "      0/ 200000: 3.3147\n",
      "  10000/ 200000: 2.1984\n",
      "  20000/ 200000: 2.3375\n",
      "  30000/ 200000: 2.4359\n",
      "  40000/ 200000: 2.0119\n",
      "  50000/ 200000: 2.2595\n",
      "  60000/ 200000: 2.4775\n",
      "  70000/ 200000: 2.1020\n",
      "  80000/ 200000: 2.2788\n",
      "  90000/ 200000: 2.1862\n",
      " 100000/ 200000: 1.9474\n",
      " 110000/ 200000: 2.3010\n",
      " 120000/ 200000: 1.9837\n",
      " 130000/ 200000: 2.4523\n",
      " 140000/ 200000: 2.3839\n",
      " 150000/ 200000: 2.1987\n",
      " 160000/ 200000: 1.9733\n",
      " 170000/ 200000: 1.8668\n",
      " 180000/ 200000: 1.9973\n",
      " 190000/ 200000: 1.8347\n"
     ]
    }
   ],
   "source": [
    "# MLP\n",
    "n_emb = 10\n",
    "n_hidden = 200\n",
    "\n",
    "g = torch.Generator().manual_seed(2147483647)\n",
    "C = torch.randn((vocab_size, n_emb),           generator=g)  # embedding\n",
    "W1 = torch.randn((n_emb*block_size, n_hidden), generator=g) * (5/3) / (n_emb*block_size)**0.5\n",
    "b1 = torch.randn(n_hidden,                     generator=g) * 0.01\n",
    "W2 = torch.randn((n_hidden, vocab_size),       generator=g) * 0.01\n",
    "b2 = torch.randn(vocab_size,                   generator=g) * 0\n",
    "\n",
    "# Batch normalization\n",
    "bngain = torch.ones((1, n_hidden))\n",
    "bnbias = torch.zeros((1, n_hidden))\n",
    "\n",
    "#### THESE REQUIRE NO GRADIENT ###############\n",
    "bnmean_running = torch.zeros((1, n_hidden))  #\n",
    "bnstd_running = torch.ones((1, n_hidden))    #\n",
    "##############################################\n",
    "\n",
    "parameters = [C, W1, b1, W2, b2, bngain, bnbias]  # All parameters of our network\n",
    "print(\"Total parameters: \", sum(p.nelement() for p in parameters))\n",
    "\n",
    "# Allow gradients\n",
    "for p in parameters:\n",
    "    p.requires_grad = True\n",
    "\n",
    "\n",
    "max_steps = 200000\n",
    "batch_size = 32\n",
    "lossi = []\n",
    "\n",
    "for i in range(max_steps):\n",
    "    # Minibatch\n",
    "    ix = torch.randint(0, Xtr.shape[0], (batch_size,), generator=g)\n",
    "    Xb, Yb = Xtr[ix], Ytr[ix]\n",
    "\n",
    "    # Forward pass\n",
    "    emb = C[Xb]   # embedding\n",
    "    emb_cat = emb.view(emb.shape[0], -1)\n",
    "    hpreact = emb_cat @ W1 #+ b1, # b1 is useless here since we normalize\n",
    "    bnmeani = hpreact.mean(0, keepdim=True)\n",
    "    bnstdi = hpreact.std(0, keepdim=True)\n",
    "    hpreact = bngain * ((hpreact - bnmeani) / bnstdi) + bnbias\n",
    "\n",
    "    with torch.no_grad():\n",
    "        bnmean_running = 0.999*bnmean_running + 0.001*bnmeani\n",
    "        bnstd_running = 0.999*bnstd_running + 0.001*bnstdi\n",
    "    \n",
    "    h = torch.tanh(hpreact)\n",
    "    logits = h @ W2 + b2\n",
    "    loss = F.cross_entropy(logits, Yb)\n",
    "    \n",
    "    # Zero gradients\n",
    "    for p in parameters:\n",
    "        p.grad = None\n",
    "\n",
    "    # Backward pass  \n",
    "    loss.backward()\n",
    "    \n",
    "    # Gradient descent\n",
    "    lr = 0.1 if i < 100000 else 0.01  # step learning rate decay\n",
    "    for p in parameters:\n",
    "        p.data += -lr * p.grad\n",
    "\n",
    "    # track statistics\n",
    "    if i % 10000 == 0:\n",
    "        print(f\"{i:7d}/{max_steps:7d}: {loss.item():.4f}\")\n",
    "    lossi.append(loss.log10().item())"
   ]
  },
  {
   "cell_type": "code",
   "execution_count": 78,
   "id": "5a9c9da5-59e7-46ff-b62a-e737d60d2274",
   "metadata": {},
   "outputs": [
    {
     "name": "stdout",
     "output_type": "stream",
     "text": [
      "train 2.06659197807312\n",
      "val 2.1050572395324707\n"
     ]
    }
   ],
   "source": [
    "@torch.no_grad()  # disables gradient tracking\n",
    "def split_loss(split):\n",
    "    x, y = {\n",
    "        'train': (Xtr, Ytr),\n",
    "        'val': (Xdev, Ydev),\n",
    "        'test': (Xte, Yte)\n",
    "    }[split]\n",
    "    emb = C[x]\n",
    "    embcat = emb.view(emb.shape[0], -1)\n",
    "    hpreact = embcat @ W1 + b1\n",
    "    # bngain, bnbias: learned\n",
    "    # bnmean, bnstd: computed over training set\n",
    "    hpreact = bngain * ((hpreact - bnmean_running) / bnstd_running) + bnbias\n",
    "    h = torch.tanh(hpreact)\n",
    "    logits = h @ W2 + b2\n",
    "    loss = F.cross_entropy(logits, y)\n",
    "    print(split, loss.item())\n",
    "\n",
    "split_loss('train')\n",
    "split_loss('val')"
   ]
  },
  {
   "cell_type": "markdown",
   "id": "342e0f27-ee44-4daa-a740-04d1f9a915b0",
   "metadata": {},
   "source": [
    "Typically one does not just divide by the std of the batch but by $\\sqrt{\\sigma_{\\mathcal{B}}^2 + \\epsilon}$ where $\\epsilon$ is a small value that prevents division by zero. Also, notice that `b1` is being useless since we are dividing by the mean of the batch. General rule:\n",
    "\n",
    "> Whenever using BatchNorm layers, if you have any weight layer before, you can remove the bias. The BN bias is going to take its place."
   ]
  },
  {
   "cell_type": "code",
   "execution_count": null,
   "id": "9751fcf3-5190-4361-9e96-5cb257abf26d",
   "metadata": {},
   "outputs": [],
   "source": []
  }
 ],
 "metadata": {
  "kernelspec": {
   "display_name": "Python 3 (ipykernel)",
   "language": "python",
   "name": "python3"
  },
  "language_info": {
   "codemirror_mode": {
    "name": "ipython",
    "version": 3
   },
   "file_extension": ".py",
   "mimetype": "text/x-python",
   "name": "python",
   "nbconvert_exporter": "python",
   "pygments_lexer": "ipython3",
   "version": "3.12.3"
  }
 },
 "nbformat": 4,
 "nbformat_minor": 5
}
